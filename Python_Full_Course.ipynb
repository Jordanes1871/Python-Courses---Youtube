{
 "cells": [
  {
   "cell_type": "markdown",
   "metadata": {},
   "source": [
    "## Python Full Course\n",
    "\n",
    "https://www.youtube.com/watch?v=XKHEtdqhLK8\n"
   ]
  },
  {
   "cell_type": "markdown",
   "metadata": {},
   "source": [
    "### vs code tips\n",
    "\n",
    "* indent multiple lines of code = highlight all required lines and press tab\n",
    "* delete code block = X\n",
    "* change code block to code = Y\n",
    "* change code block to markdown = M \n",
    "* asterisk all code within code block = CTRL + A >>> CTRL + K + C\n",
    "* undo asterisk all code within code block = CTRL + A >>> CTRL + K + U"
   ]
  },
  {
   "cell_type": "markdown",
   "metadata": {},
   "source": [
    "### Python tricks \n"
   ]
  },
  {
   "cell_type": "markdown",
   "metadata": {},
   "source": [
    "#### 1. to print all values: \n"
   ]
  },
  {
   "cell_type": "code",
   "execution_count": 1,
   "metadata": {},
   "outputs": [
    {
     "data": {
      "text/plain": [
       "'\\nprint(df)\\n'"
      ]
     },
     "execution_count": 1,
     "metadata": {},
     "output_type": "execute_result"
    }
   ],
   "source": [
    "\n",
    "# Option 1\n",
    "\n",
    "# Set display options to show all rows and columns\n",
    "\"\"\"\n",
    "pd.set_option('display.max_rows', None)\n",
    "pd.set_option('display.max_columns', None)\n",
    "\n",
    "\"\"\"\n",
    "\n",
    "# Print the entire DataFrame\n",
    "\"\"\"\n",
    "print(df)\n",
    "\"\"\"\n",
    "\n",
    "# Option 2\n",
    "\"\"\"\n",
    "print(pd.to_string())\n",
    "\"\"\""
   ]
  },
  {
   "cell_type": "markdown",
   "metadata": {},
   "source": [
    "### OUTSANDING TASKS...."
   ]
  },
  {
   "cell_type": "markdown",
   "metadata": {},
   "source": [
    "1. Look over the quiz game\n",
    "2. Create that funky shape"
   ]
  },
  {
   "cell_type": "markdown",
   "metadata": {},
   "source": [
    "### 1. Tutorial for beginners"
   ]
  },
  {
   "cell_type": "code",
   "execution_count": 147,
   "metadata": {},
   "outputs": [
    {
     "name": "stdout",
     "output_type": "stream",
     "text": [
      "I love Pizza!\n",
      "It's really good!\n"
     ]
    }
   ],
   "source": [
    "print('I love Pizza!')\n",
    "print(\"It's really good!\")"
   ]
  },
  {
   "cell_type": "markdown",
   "metadata": {},
   "source": [
    "### 2. Variables\n",
    "\n",
    "variable = container for  value, behaves as the value that it contains"
   ]
  },
  {
   "cell_type": "code",
   "execution_count": 148,
   "metadata": {},
   "outputs": [
    {
     "name": "stdout",
     "output_type": "stream",
     "text": [
      "Hello Bro\n"
     ]
    }
   ],
   "source": [
    "name = 'Bro' #assign Jordan to name\n",
    "print('Hello ' + name)"
   ]
  },
  {
   "cell_type": "code",
   "execution_count": 149,
   "metadata": {},
   "outputs": [
    {
     "name": "stdout",
     "output_type": "stream",
     "text": [
      "<class 'str'>\n"
     ]
    }
   ],
   "source": [
    "print(type(name)) #check datatype of a variable"
   ]
  },
  {
   "cell_type": "code",
   "execution_count": 150,
   "metadata": {},
   "outputs": [
    {
     "name": "stdout",
     "output_type": "stream",
     "text": [
      "Hello Jordan Stevens\n"
     ]
    }
   ],
   "source": [
    "first_name = 'Jordan'\n",
    "last_name = 'Stevens'\n",
    "full_name = first_name + ' ' + last_name #string concatination\n",
    "\n",
    "print('Hello ' + full_name)"
   ]
  },
  {
   "cell_type": "code",
   "execution_count": 151,
   "metadata": {},
   "outputs": [
    {
     "name": "stdout",
     "output_type": "stream",
     "text": [
      "<class 'int'>\n",
      "32\n"
     ]
    }
   ],
   "source": [
    "age = 31 \n",
    "age = age + 1\n",
    "print(type(age)) #int type (whole number)\n",
    "print(age)"
   ]
  },
  {
   "cell_type": "code",
   "execution_count": 152,
   "metadata": {},
   "outputs": [
    {
     "name": "stdout",
     "output_type": "stream",
     "text": [
      "32\n"
     ]
    }
   ],
   "source": [
    "age = 31\n",
    "age += 1 #shortcut for +1\n",
    "print(age)"
   ]
  },
  {
   "cell_type": "code",
   "execution_count": 153,
   "metadata": {},
   "outputs": [
    {
     "name": "stdout",
     "output_type": "stream",
     "text": [
      "Hello, Jordan Stevens, your age is 32\n"
     ]
    }
   ],
   "source": [
    "print('Hello, ' + full_name + ', your age is ' + str(age)) #convert variable to string"
   ]
  },
  {
   "cell_type": "code",
   "execution_count": 154,
   "metadata": {},
   "outputs": [
    {
     "name": "stdout",
     "output_type": "stream",
     "text": [
      "<class 'float'>\n",
      "250.5\n"
     ]
    }
   ],
   "source": [
    "height = 250.5 \n",
    "print(type(height)) #floating point number\n",
    "print(height)"
   ]
  },
  {
   "cell_type": "code",
   "execution_count": 155,
   "metadata": {},
   "outputs": [
    {
     "name": "stdout",
     "output_type": "stream",
     "text": [
      "your height is 250.5cm\n"
     ]
    }
   ],
   "source": [
    "print('your height is ' + str(height) + 'cm')"
   ]
  },
  {
   "cell_type": "code",
   "execution_count": 156,
   "metadata": {},
   "outputs": [
    {
     "name": "stdout",
     "output_type": "stream",
     "text": [
      "<class 'bool'>\n",
      "False\n",
      "Are you a human: False\n"
     ]
    }
   ],
   "source": [
    "human = False\n",
    "print(type(human)) #boolean\n",
    "print(human)\n",
    "print('Are you a human: ' + str(human))"
   ]
  },
  {
   "cell_type": "markdown",
   "metadata": {},
   "source": [
    "### 3. Multiple Assignment \n",
    "allows to assign multiple variables at the same time"
   ]
  },
  {
   "cell_type": "code",
   "execution_count": 157,
   "metadata": {},
   "outputs": [],
   "source": [
    "# name = 'Jordan'\n",
    "# age = 31\n",
    "# attractive = True\n",
    "\n",
    "name, age, attrictive = 'Jordan', 31, True #assign all variables quicker this way"
   ]
  },
  {
   "cell_type": "code",
   "execution_count": 158,
   "metadata": {},
   "outputs": [],
   "source": [
    "spongebob = patrck = sandy = quigward = 30"
   ]
  },
  {
   "cell_type": "markdown",
   "metadata": {},
   "source": [
    "### 4. String Methods "
   ]
  },
  {
   "cell_type": "code",
   "execution_count": 159,
   "metadata": {},
   "outputs": [
    {
     "name": "stdout",
     "output_type": "stream",
     "text": [
      "6\n"
     ]
    }
   ],
   "source": [
    "name = 'jordan'\n",
    "print(len(name)) # how many char string is"
   ]
  },
  {
   "cell_type": "code",
   "execution_count": 160,
   "metadata": {},
   "outputs": [
    {
     "name": "stdout",
     "output_type": "stream",
     "text": [
      "1\n",
      "Jordan\n",
      "JORDAN\n",
      "jordan\n",
      "False\n",
      "True\n",
      "1\n",
      "jordon\n",
      "jordanjordanjordan\n"
     ]
    }
   ],
   "source": [
    "print(name.find('o')) #find index where o is at \n",
    "print(name.capitalize()) #capitalise first letter\n",
    "print(name.upper()) #upper case all char\n",
    "print(name.lower()) #lower case all char\n",
    "print(name.isdigit()) #if its a digit\n",
    "print(name.isalpha()) #true if contains only letters\n",
    "print(name.count('a')) #counts how many a's\n",
    "print(name.replace('a', 'o')) #change a to o so it spells jordon\n",
    "print(name*3) #print name 3 times"
   ]
  },
  {
   "cell_type": "markdown",
   "metadata": {},
   "source": [
    "### 5. Type Cast \n",
    "convert data types\n"
   ]
  },
  {
   "cell_type": "code",
   "execution_count": 161,
   "metadata": {},
   "outputs": [
    {
     "name": "stdout",
     "output_type": "stream",
     "text": [
      "1\n",
      "2.0\n",
      "2\n"
     ]
    }
   ],
   "source": [
    "x = 1\n",
    "y = 2.0\n",
    "z = '2'\n",
    "\n",
    "print(x)\n",
    "print(y)\n",
    "print(z)"
   ]
  },
  {
   "cell_type": "code",
   "execution_count": 162,
   "metadata": {},
   "outputs": [
    {
     "name": "stdout",
     "output_type": "stream",
     "text": [
      "2\n",
      "2\n"
     ]
    }
   ],
   "source": [
    "print(int(y)) # temp change as wejust printing\n",
    "y = int(y) #permenant change by reassignment\n",
    "z = int(z)\n",
    "print(z)"
   ]
  },
  {
   "cell_type": "code",
   "execution_count": 163,
   "metadata": {},
   "outputs": [
    {
     "name": "stdout",
     "output_type": "stream",
     "text": [
      "1.0\n",
      "2.0\n",
      "2.0\n"
     ]
    }
   ],
   "source": [
    "#cnvert all to float\n",
    "x = float(x)\n",
    "y = float(y)\n",
    "z = float(z)\n",
    "print(x)\n",
    "print(y)\n",
    "print(z)"
   ]
  },
  {
   "cell_type": "code",
   "execution_count": 164,
   "metadata": {},
   "outputs": [
    {
     "name": "stdout",
     "output_type": "stream",
     "text": [
      "x is 1.0\n",
      "y is 2.0\n",
      "z is 2.0\n"
     ]
    }
   ],
   "source": [
    "x = str(x)\n",
    "y = str(y)\n",
    "z = str(z)\n",
    "print('x is ' + x) #allows us to use str in print statement\n",
    "print('y is ' + y)\n",
    "print('z is ' + z)"
   ]
  },
  {
   "cell_type": "markdown",
   "metadata": {},
   "source": [
    "### 6. User Input "
   ]
  },
  {
   "cell_type": "code",
   "execution_count": 165,
   "metadata": {},
   "outputs": [
    {
     "name": "stdout",
     "output_type": "stream",
     "text": [
      "hello \n"
     ]
    }
   ],
   "source": [
    "name = input('What is your name?: ') #allows user to enter something\n",
    "print('hello ' + name) #its of string datatype"
   ]
  },
  {
   "cell_type": "code",
   "execution_count": 166,
   "metadata": {},
   "outputs": [
    {
     "ename": "ValueError",
     "evalue": "invalid literal for int() with base 10: ''",
     "output_type": "error",
     "traceback": [
      "\u001b[1;31m---------------------------------------------------------------------------\u001b[0m",
      "\u001b[1;31mValueError\u001b[0m                                Traceback (most recent call last)",
      "Cell \u001b[1;32mIn[166], line 1\u001b[0m\n\u001b[1;32m----> 1\u001b[0m age \u001b[38;5;241m=\u001b[39m \u001b[38;5;28;43mint\u001b[39;49m\u001b[43m(\u001b[49m\u001b[38;5;28;43minput\u001b[39;49m\u001b[43m(\u001b[49m\u001b[38;5;124;43m'\u001b[39;49m\u001b[38;5;124;43mHow old are you?: \u001b[39;49m\u001b[38;5;124;43m'\u001b[39;49m\u001b[43m)\u001b[49m\u001b[43m)\u001b[49m\n\u001b[0;32m      2\u001b[0m age \u001b[38;5;241m+\u001b[39m\u001b[38;5;241m=\u001b[39m\u001b[38;5;241m1\u001b[39m\n\u001b[0;32m      3\u001b[0m \u001b[38;5;28mprint\u001b[39m(\u001b[38;5;124m'\u001b[39m\u001b[38;5;124mYou will be \u001b[39m\u001b[38;5;124m'\u001b[39m \u001b[38;5;241m+\u001b[39m \u001b[38;5;28mstr\u001b[39m(age) \u001b[38;5;241m+\u001b[39m \u001b[38;5;124m'\u001b[39m\u001b[38;5;124m on your next birthday!\u001b[39m\u001b[38;5;124m'\u001b[39m)\n",
      "\u001b[1;31mValueError\u001b[0m: invalid literal for int() with base 10: ''"
     ]
    }
   ],
   "source": [
    "age = int(input('How old are you?: '))\n",
    "age +=1\n",
    "print('You will be ' + str(age) + ' on your next birthday!')"
   ]
  },
  {
   "cell_type": "code",
   "execution_count": null,
   "metadata": {},
   "outputs": [
    {
     "name": "stdout",
     "output_type": "stream",
     "text": [
      "hello Jordan\n",
      "You will be 32 on your next birthday!\n"
     ]
    }
   ],
   "source": [
    "name = input('What is your name?: ') #allows user to enter something\n",
    "age = int(input('How old are you?: ')) # use int type\n",
    "\n",
    "age +=1\n",
    "\n",
    "print('hello ' + name) #its of string datatype\n",
    "print('You will be ' + str(age) + ' on your next birthday!') #typecast as str"
   ]
  },
  {
   "cell_type": "code",
   "execution_count": null,
   "metadata": {},
   "outputs": [
    {
     "name": "stdout",
     "output_type": "stream",
     "text": [
      "hello Jordan\n",
      "You will be 32 on your next birthday!\n",
      "You are 200.6cm tall.\n"
     ]
    }
   ],
   "source": [
    "name = input('What is your name?: ') #allows user to enter something as string\n",
    "age = int(input('How old are you?: ')) # use int type\n",
    "height = float(input('How tall are you?: ')) #use float type\n",
    "\n",
    "age +=1\n",
    "\n",
    "print('hello ' + name) \n",
    "print('You will be ' + str(age) + ' on your next birthday!') #typecast as str\n",
    "print('You are ' + str(height) + 'cm tall.') #typecast as str\n"
   ]
  },
  {
   "cell_type": "markdown",
   "metadata": {},
   "source": [
    "### 7. Math functions\n"
   ]
  },
  {
   "cell_type": "code",
   "execution_count": null,
   "metadata": {},
   "outputs": [
    {
     "name": "stdout",
     "output_type": "stream",
     "text": [
      "3\n",
      "4\n",
      "3\n",
      "3.14\n",
      "9.8596\n",
      "1.772004514666935\n",
      "3\n",
      "1\n"
     ]
    }
   ],
   "source": [
    "import math\n",
    "\n",
    "pi = 3.14\n",
    "minus_pi = -3.14\n",
    "\n",
    "x = 1\n",
    "y = 2\n",
    "z = 3\n",
    "\n",
    "print(round(pi))\n",
    "print(math.ceil(pi)) #ceil rounds numbers up to the nearest whole int\n",
    "print(math.floor(pi)) #rounds down \n",
    "print(abs(minus_pi)) #absolute value of a number\n",
    "print(pow(pi,2)) #pi to the power of 2\n",
    "print(math.sqrt(pi)) #square root of pi\n",
    "print(max(x,y,z)) #find largest value of a selection of variables/values\n",
    "print(min(x,y,z)) #find smallest value of a selection of variables/values"
   ]
  },
  {
   "cell_type": "markdown",
   "metadata": {},
   "source": [
    "### 8. String Slicing\n",
    "\n",
    "You can use either:\n",
    "* indexing operation\n",
    "* slicing operator"
   ]
  },
  {
   "cell_type": "code",
   "execution_count": null,
   "metadata": {},
   "outputs": [
    {
     "name": "stdout",
     "output_type": "stream",
     "text": [
      "Jordan Stevens\n",
      "The number of characters in my name is: 14\n",
      "Jordan\n",
      "Stevens\n"
     ]
    }
   ],
   "source": [
    "name = 'Jordan Stevens'\n",
    "print(name)\n",
    "print('The number of characters in my name is: ' + str(len(name)))\n",
    "\n",
    "first_name = name[:6] #index[starting(inclusive), stopping(exclusive), step]\n",
    "print(first_name)\n",
    "\n",
    "last_name = name[7:]\n",
    "print(last_name)"
   ]
  },
  {
   "cell_type": "code",
   "execution_count": null,
   "metadata": {},
   "outputs": [
    {
     "name": "stdout",
     "output_type": "stream",
     "text": [
      "Jra tvn\n"
     ]
    }
   ],
   "source": [
    "funky_name = name[::2] #start at index 0 and end at index 0 and step every 2\n",
    "print(funky_name)"
   ]
  },
  {
   "cell_type": "code",
   "execution_count": null,
   "metadata": {},
   "outputs": [
    {
     "name": "stdout",
     "output_type": "stream",
     "text": [
      "snevetS nadroJ\n"
     ]
    }
   ],
   "source": [
    "reversed_name = name[::-1]\n",
    "print(reversed_name)"
   ]
  },
  {
   "cell_type": "code",
   "execution_count": null,
   "metadata": {},
   "outputs": [
    {
     "name": "stdout",
     "output_type": "stream",
     "text": [
      "google\n"
     ]
    }
   ],
   "source": [
    "# get website name using slicing operator\n",
    "website = 'http://google.com'\n",
    "slice = slice(7,-4) #start at index 0 and end at the 4th last index\n",
    "print(website[slice])\n",
    "website2 = 'http://atributetofashion.com'\n",
    "print(website2[slice])"
   ]
  },
  {
   "cell_type": "markdown",
   "metadata": {},
   "source": [
    "### 9. If Statements\n",
    "\n",
    "Order of if statement matters in terms of what is going to be executed"
   ]
  },
  {
   "cell_type": "code",
   "execution_count": null,
   "metadata": {},
   "outputs": [
    {
     "name": "stdout",
     "output_type": "stream",
     "text": [
      "You haven't been born yet\n"
     ]
    }
   ],
   "source": [
    "age = int(input('How old are you?: '))\n",
    "if age >= 18:\n",
    "    print('You are an adult.')\n",
    "elif age < 0:\n",
    "    print(\"You haven't been born yet\")\n",
    "else: \n",
    "    print('You are a child.')"
   ]
  },
  {
   "cell_type": "code",
   "execution_count": null,
   "metadata": {},
   "outputs": [
    {
     "name": "stdout",
     "output_type": "stream",
     "text": [
      "You are an adult.\n"
     ]
    }
   ],
   "source": [
    "age = int(input('How old are you?: '))\n",
    "if age >= 18:\n",
    "    print('You are an adult.')\n",
    "elif age < 0:\n",
    "    print(\"You haven't been born yet\")\n",
    "elif age == 100:\n",
    "    print('You are very old!') #print's you are an adult as the 1st if statement is correct if input = 100\n",
    "else: \n",
    "    print('You are a child.')"
   ]
  },
  {
   "cell_type": "code",
   "execution_count": null,
   "metadata": {},
   "outputs": [
    {
     "name": "stdout",
     "output_type": "stream",
     "text": [
      "You are very old!\n"
     ]
    }
   ],
   "source": [
    "age = int(input('How old are you?: '))\n",
    "if age == 100:\n",
    "    print('You are very old!') # change the order of if statements\n",
    "elif age >= 18:\n",
    "    print('You are an adult.')\n",
    "elif age < 0:\n",
    "    print(\"You haven't been born yet\")\n",
    "else: \n",
    "    print('You are a child.')"
   ]
  },
  {
   "cell_type": "markdown",
   "metadata": {},
   "source": [
    "### 10. Logical Operators\n",
    "\n",
    "* and\n",
    "* or\n",
    "* not"
   ]
  },
  {
   "cell_type": "code",
   "execution_count": null,
   "metadata": {},
   "outputs": [],
   "source": [
    "temp = int(input('what is the temprature outside?: '))\n",
    "\n",
    "if temp >= 0 and temp <= 30:\n",
    "    print('The temrpature is good today')\n",
    "    print(('Go outside'))"
   ]
  },
  {
   "cell_type": "code",
   "execution_count": null,
   "metadata": {},
   "outputs": [
    {
     "name": "stdout",
     "output_type": "stream",
     "text": [
      "The temprature is bad today\n",
      "Stay Inside\n"
     ]
    }
   ],
   "source": [
    "temp = int(input('what is the temprature outside?: '))\n",
    "\n",
    "if temp >= 0 and temp <= 30:\n",
    "    print('The temrpature is good today')\n",
    "    print(('Go outside'))\n",
    "elif temp < 0 or temp > 30:\n",
    "    print('The temprature is bad today')\n",
    "    print('Stay Inside')"
   ]
  },
  {
   "cell_type": "code",
   "execution_count": null,
   "metadata": {},
   "outputs": [
    {
     "name": "stdout",
     "output_type": "stream",
     "text": [
      "The temprature is bad today\n",
      "Stay Inside\n"
     ]
    }
   ],
   "source": [
    "temp = int(input('what is the temprature outside?: '))\n",
    "\n",
    "#not logical operator makes this reversed\n",
    "if not(temp < 0 or temp > 30): \n",
    "    print('The temrpature is good today')\n",
    "    print(('Go outside'))\n",
    "elif not(temp >= 0 and temp <= 30):\n",
    "    print('The temprature is bad today')\n",
    "    print('Stay Inside')"
   ]
  },
  {
   "cell_type": "markdown",
   "metadata": {},
   "source": [
    "### 11. While Loops"
   ]
  },
  {
   "cell_type": "code",
   "execution_count": 1,
   "metadata": {},
   "outputs": [
    {
     "name": "stdout",
     "output_type": "stream",
     "text": [
      "Help, i'm stuck in a loop\n"
     ]
    }
   ],
   "source": [
    "# Infiniate loop as 1==1 always\n",
    "\n",
    "while 1==1:\n",
    "    print(\"Help, i'm stuck in a loop\")\n",
    "    #break <<<use this to break out of an infinite loop"
   ]
  },
  {
   "cell_type": "code",
   "execution_count": null,
   "metadata": {},
   "outputs": [
    {
     "name": "stdout",
     "output_type": "stream",
     "text": [
      "Hello Jordan\n"
     ]
    }
   ],
   "source": [
    "# if user refused to enter their name it continully asks them i.e. infinate loop until they enter something\n",
    "name = '' \n",
    "\n",
    "while len(name)==0:\n",
    "    name = input(\"Enter your name\")\n",
    "    \n",
    "print('Hello ' + name)"
   ]
  },
  {
   "cell_type": "code",
   "execution_count": null,
   "metadata": {},
   "outputs": [
    {
     "name": "stdout",
     "output_type": "stream",
     "text": [
      "Hello jordan\n"
     ]
    }
   ],
   "source": [
    "#Another way of printing the code\n",
    "\n",
    "name = None # name is blank\n",
    "while not name:\n",
    "    name = input(\"Enter your name\")\n",
    "        \n",
    "print('Hello ' + name)"
   ]
  },
  {
   "cell_type": "markdown",
   "metadata": {},
   "source": [
    "### 12. For Loops\n",
    "\n",
    "A statement that will execute its block of code a limited amount of times\n",
    "* while loop = unlimited\n",
    "* for loop = limited"
   ]
  },
  {
   "cell_type": "code",
   "execution_count": 172,
   "metadata": {},
   "outputs": [
    {
     "name": "stdout",
     "output_type": "stream",
     "text": [
      "Help on class range in module builtins:\n",
      "\n",
      "class range(object)\n",
      " |  range(stop) -> range object\n",
      " |  range(start, stop[, step]) -> range object\n",
      " |\n",
      " |  Return an object that produces a sequence of integers from start (inclusive)\n",
      " |  to stop (exclusive) by step.  range(i, j) produces i, i+1, i+2, ..., j-1.\n",
      " |  start defaults to 0, and stop is omitted!  range(4) produces 0, 1, 2, 3.\n",
      " |  These are exactly the valid indices for a list of 4 elements.\n",
      " |  When step is given, it specifies the increment (or decrement).\n",
      " |\n",
      " |  Methods defined here:\n",
      " |\n",
      " |  __bool__(self, /)\n",
      " |      True if self else False\n",
      " |\n",
      " |  __contains__(self, key, /)\n",
      " |      Return bool(key in self).\n",
      " |\n",
      " |  __eq__(self, value, /)\n",
      " |      Return self==value.\n",
      " |\n",
      " |  __ge__(self, value, /)\n",
      " |      Return self>=value.\n",
      " |\n",
      " |  __getattribute__(self, name, /)\n",
      " |      Return getattr(self, name).\n",
      " |\n",
      " |  __getitem__(self, key, /)\n",
      " |      Return self[key].\n",
      " |\n",
      " |  __gt__(self, value, /)\n",
      " |      Return self>value.\n",
      " |\n",
      " |  __hash__(self, /)\n",
      " |      Return hash(self).\n",
      " |\n",
      " |  __iter__(self, /)\n",
      " |      Implement iter(self).\n",
      " |\n",
      " |  __le__(self, value, /)\n",
      " |      Return self<=value.\n",
      " |\n",
      " |  __len__(self, /)\n",
      " |      Return len(self).\n",
      " |\n",
      " |  __lt__(self, value, /)\n",
      " |      Return self<value.\n",
      " |\n",
      " |  __ne__(self, value, /)\n",
      " |      Return self!=value.\n",
      " |\n",
      " |  __reduce__(...)\n",
      " |      Helper for pickle.\n",
      " |\n",
      " |  __repr__(self, /)\n",
      " |      Return repr(self).\n",
      " |\n",
      " |  __reversed__(...)\n",
      " |      Return a reverse iterator.\n",
      " |\n",
      " |  count(...)\n",
      " |      rangeobject.count(value) -> integer -- return number of occurrences of value\n",
      " |\n",
      " |  index(...)\n",
      " |      rangeobject.index(value) -> integer -- return index of value.\n",
      " |      Raise ValueError if the value is not present.\n",
      " |\n",
      " |  ----------------------------------------------------------------------\n",
      " |  Static methods defined here:\n",
      " |\n",
      " |  __new__(*args, **kwargs) from builtins.type\n",
      " |      Create and return a new object.  See help(type) for accurate signature.\n",
      " |\n",
      " |  ----------------------------------------------------------------------\n",
      " |  Data descriptors defined here:\n",
      " |\n",
      " |  start\n",
      " |\n",
      " |  step\n",
      " |\n",
      " |  stop\n",
      "\n"
     ]
    }
   ],
   "source": [
    "help(range) # range is (stop,(inclusive), stop(exclusive), step)"
   ]
  },
  {
   "cell_type": "code",
   "execution_count": null,
   "metadata": {},
   "outputs": [
    {
     "name": "stdout",
     "output_type": "stream",
     "text": [
      "0\n",
      "1\n",
      "2\n",
      "3\n",
      "4\n",
      "5\n",
      "6\n",
      "7\n",
      "8\n",
      "9\n"
     ]
    }
   ],
   "source": [
    "for i in range(10):\n",
    "    print(i)"
   ]
  },
  {
   "cell_type": "code",
   "execution_count": null,
   "metadata": {},
   "outputs": [
    {
     "name": "stdout",
     "output_type": "stream",
     "text": [
      "1\n",
      "2\n",
      "3\n",
      "4\n",
      "5\n",
      "6\n",
      "7\n",
      "8\n",
      "9\n",
      "10\n"
     ]
    }
   ],
   "source": [
    "for i in range(10):\n",
    "    print(i+1)"
   ]
  },
  {
   "cell_type": "code",
   "execution_count": null,
   "metadata": {},
   "outputs": [
    {
     "name": "stdout",
     "output_type": "stream",
     "text": [
      "1\n",
      "2\n",
      "3\n",
      "4\n",
      "5\n",
      "6\n",
      "7\n",
      "8\n",
      "9\n",
      "10\n"
     ]
    }
   ],
   "source": [
    "#alternatively the cell above can be written as\n",
    "for i in range(1,11):\n",
    "    print(i)"
   ]
  },
  {
   "cell_type": "code",
   "execution_count": null,
   "metadata": {},
   "outputs": [
    {
     "name": "stdout",
     "output_type": "stream",
     "text": [
      "50\n",
      "60\n",
      "70\n",
      "80\n",
      "90\n"
     ]
    }
   ],
   "source": [
    "for i in range(50,100,10):\n",
    "    print(i)"
   ]
  },
  {
   "cell_type": "code",
   "execution_count": null,
   "metadata": {},
   "outputs": [
    {
     "name": "stdout",
     "output_type": "stream",
     "text": [
      "J\n",
      "o\n",
      "r\n",
      "d\n",
      "a\n",
      "n\n"
     ]
    }
   ],
   "source": [
    "for i in 'Jordan':\n",
    "    print(i)"
   ]
  },
  {
   "cell_type": "code",
   "execution_count": null,
   "metadata": {},
   "outputs": [
    {
     "name": "stdout",
     "output_type": "stream",
     "text": [
      "10\n",
      "9\n",
      "8\n",
      "7\n",
      "6\n",
      "5\n",
      "4\n",
      "3\n",
      "2\n",
      "1\n",
      "happy new year!\n"
     ]
    }
   ],
   "source": [
    "import time\n",
    "#countdown\n",
    "for seconds in range(10,0,-1): #start t 10, end at 1(as its not inclusive, step at -1 count backwards)\n",
    "    print(seconds)\n",
    "    time.sleep(1) #sleeping for 1 second for each iteration of the for loop\n",
    "print('happy new year!')"
   ]
  },
  {
   "cell_type": "markdown",
   "metadata": {},
   "source": [
    "### 13. Nested Loops\n",
    "\n",
    "Having 1 loop inside of another loop - it dosen't matter if its a for or a while loop"
   ]
  },
  {
   "cell_type": "code",
   "execution_count": 213,
   "metadata": {},
   "outputs": [
    {
     "name": "stdout",
     "output_type": "stream",
     "text": [
      "0 0\n",
      "0 1\n",
      "0 2\n",
      "1 0\n",
      "1 1\n",
      "1 2\n",
      "2 0\n",
      "2 1\n",
      "2 2\n"
     ]
    }
   ],
   "source": [
    "# brief example\n",
    "\n",
    "for i in range(0,3):\n",
    "    for j in range(0,3):\n",
    "        print(i, j)"
   ]
  },
  {
   "cell_type": "code",
   "execution_count": 182,
   "metadata": {},
   "outputs": [
    {
     "name": "stdout",
     "output_type": "stream",
     "text": [
      "******\n",
      "******\n"
     ]
    }
   ],
   "source": [
    "# draw a rectoange out of a certain symbol that we choose\n",
    "# so we need to set a width and a height\n",
    "\n",
    "# nested loops = inner loop will finish all iterations before finishing one iteration of the outer loop\n",
    "\n",
    "rows = 2\n",
    "columns = 6\n",
    "symbol = '*'\n",
    "\n",
    "for i in range(rows): #outer loop to iterate as many times as we have rows\n",
    "    for j in range(columns): #inner loop iterate how many times we have columns\n",
    "        print(symbol, end ='')#prevents cusrer moving down to next line using end = '\n",
    "    print()"
   ]
  },
  {
   "cell_type": "markdown",
   "metadata": {},
   "source": [
    "#### More practice on nested loops to draw shapes...."
   ]
  },
  {
   "attachments": {
    "image.png": {
     "image/png": "[encoded data removed]"
    }
   },
   "cell_type": "markdown",
   "metadata": {},
   "source": [
    "##### 13.1 inverted pyramid\n",
    "![image.png](attachment:image.png)"
   ]
  },
  {
   "cell_type": "code",
   "execution_count": 28,
   "metadata": {},
   "outputs": [
    {
     "name": "stdout",
     "output_type": "stream",
     "text": [
      "* * * * \n",
      " * * * \n",
      "  * * \n",
      "   * \n"
     ]
    }
   ],
   "source": [
    "\n",
    "\n",
    "num_rows = 4\n",
    "\n",
    "# at first iteration i = 4 as we specify num_rows = 4, end at 0 and decrease num_rows by 1\n",
    "# when rows=4, \n",
    "\n",
    "for i in range(num_rows, 0, -1): #initially we want first row to contain all i, stopping at 0 and step -1\n",
    "    for j in range(0, num_rows-i):\n",
    "        print(end = ' ')\n",
    "    for j in range(0,i):\n",
    "        print('*', end = ' ') #spaces between each *\n",
    "    print()\n"
   ]
  },
  {
   "cell_type": "code",
   "execution_count": 236,
   "metadata": {},
   "outputs": [
    {
     "name": "stdout",
     "output_type": "stream",
     "text": [
      "*************\n",
      " ***********\n",
      "  *********\n",
      "   *******\n",
      "    *****\n",
      "     ***\n",
      "      *\n"
     ]
    }
   ],
   "source": [
    "for i in range(7,0,-1): #outer loop to handle rows so started at 7, stop at 0, iterate by -1 i.e. 7,6,5,4,3,2,1,0\n",
    "    \n",
    "    #indent spaces (look at print statement)\n",
    "    for j in range(7-i): # so we start at the 7th row and we want 6 indented spaces, 6th row we want 5 indented spaces etc, its working from the bottom up\n",
    "        print(' ', end = '')\n",
    "    \n",
    "    #print stars\n",
    "    for k in range(0, 2*i-1):\n",
    "        print('*', end = '')\n",
    "    print()"
   ]
  },
  {
   "cell_type": "code",
   "execution_count": null,
   "metadata": {},
   "outputs": [
    {
     "name": "stdout",
     "output_type": "stream",
     "text": [
      "* * * * * \n",
      " * * * *  \n",
      "  * * *   \n",
      "   * *    \n",
      "    *     \n"
     ]
    }
   ],
   "source": [
    "for i in range(5):\n",
    "    x = '* '\n",
    "    x=x*(5-i)\n",
    "    print(f'{x: ^10}')"
   ]
  },
  {
   "attachments": {
    "image.png": {
     "image/png": "[encoded data removed]"
    }
   },
   "cell_type": "markdown",
   "metadata": {},
   "source": [
    "##### 13.2 orthogonal triangle or rectangular triangle\n",
    "![image.png](attachment:image.png)"
   ]
  },
  {
   "cell_type": "code",
   "execution_count": 241,
   "metadata": {},
   "outputs": [
    {
     "name": "stdout",
     "output_type": "stream",
     "text": [
      "\n",
      "* \n",
      "* * \n",
      "* * * \n",
      "* * * * \n",
      "* * * * * \n"
     ]
    }
   ],
   "source": [
    "#right angle traingle\n",
    "\n",
    "# lets do 5 rows \n",
    "for i in range(0,6):\n",
    "    #handle printing stars (as we don't care about indentation)\n",
    "    for j in range(i):\n",
    "        print('*', end = ' ')\n",
    "    print()"
   ]
  },
  {
   "cell_type": "code",
   "execution_count": 180,
   "metadata": {},
   "outputs": [
    {
     "name": "stdout",
     "output_type": "stream",
     "text": [
      "\n",
      "* \n",
      "* * \n",
      "* * * \n",
      "* * * * \n"
     ]
    }
   ],
   "source": [
    "# At i = 1 >>> x = * times 1, i=2 >>> x =* times 2 so prints twice etc...\n",
    "for i in range(5): # executed 4 times loop\n",
    "    x = '* '\n",
    "    x = x*i\n",
    "    print(x)"
   ]
  },
  {
   "attachments": {
    "image-2.png": {
     "image/png": "[encoded data removed]"
    }
   },
   "cell_type": "markdown",
   "metadata": {},
   "source": [
    "##### 13.3 Pyramid Traingle\n",
    "![image-2.png](attachment:image-2.png)"
   ]
  },
  {
   "cell_type": "code",
   "execution_count": 26,
   "metadata": {},
   "outputs": [
    {
     "name": "stdout",
     "output_type": "stream",
     "text": [
      "              *\n",
      "              *\n",
      "              *\n",
      "              *\n",
      "              *\n",
      "              *\n",
      "              *\n"
     ]
    }
   ],
   "source": [
    "# step 1\n",
    "# get 7 zeros 7 spaces out to the right...\n",
    "\n",
    "\n",
    "for i in range(0,7): #print 7 rows\n",
    "    for j in range(0,7): #print 7 spaces out to the right\n",
    "        print(' ', end =' ')\n",
    "    print('*')"
   ]
  },
  {
   "cell_type": "code",
   "execution_count": 25,
   "metadata": {},
   "outputs": [
    {
     "name": "stdout",
     "output_type": "stream",
     "text": [
      "              *\n",
      "            *\n",
      "          *\n",
      "        *\n",
      "      *\n",
      "    *\n",
      "  *\n"
     ]
    }
   ],
   "source": [
    "# step 2\n",
    "\n",
    "for i in range(0,7): #print 7 rows\n",
    "    #on the second iteration i.e. when i = 2 we want it to space 6 times to the right i.e. (1,6),(2,5),(3,4) etc\n",
    "    for j in range(0,7-i): \n",
    "        print(' ', end =' ')\n",
    "    print('*')"
   ]
  },
  {
   "cell_type": "code",
   "execution_count": 24,
   "metadata": {},
   "outputs": [
    {
     "name": "stdout",
     "output_type": "stream",
     "text": [
      "              * \n",
      "            * * * \n",
      "          * * * * * \n",
      "        * * * * * * * \n",
      "      * * * * * * * * * \n",
      "    * * * * * * * * * * * \n",
      "  * * * * * * * * * * * * * \n"
     ]
    }
   ],
   "source": [
    "for i in range(0,7): #print 7 rows\n",
    "    \n",
    "    # handling indentations i.e. when row = 0 i.e. first row we want indentation by 6 or 7-i\n",
    "    for j in range(0,7-i): \n",
    "        print(' ', end =' ')\n",
    "        \n",
    "    #handling printing stars    \n",
    "    # on 1st line i = 0 so print 2*0+1 = -1, i=1 print2*1+1 =3, i=2 print2*2+1=5 etc.... as we need odd number of 0's on each line\n",
    "    for k in range(0, 2*i+1): \n",
    "        print('*', end =' ')\n",
    "    print('')"
   ]
  },
  {
   "cell_type": "code",
   "execution_count": 237,
   "metadata": {},
   "outputs": [
    {
     "name": "stdout",
     "output_type": "stream",
     "text": [
      "       \n",
      "      * \n",
      "     * * \n",
      "    * * * \n",
      "   * * * * \n",
      "  * * * * * \n",
      " * * * * * * \n"
     ]
    }
   ],
   "source": [
    "#normal pyramid\n",
    "#handling rows start at 0 end at 7 iterate upwards\n",
    "for i in range(0,7,1):\n",
    "    #handle indentations so at the top we want 6 indentations\n",
    "    for j in range(7-i):\n",
    "        print(' ', end ='')\n",
    "    #printing stars    \n",
    "    for k in range(0,i):\n",
    "        print('*', end =' ')\n",
    "    print()"
   ]
  },
  {
   "attachments": {
    "image.png": {
     "image/png": "[encoded data removed]"
    }
   },
   "cell_type": "markdown",
   "metadata": {},
   "source": [
    "#### 13.4 Opposite side right triangle\n",
    "![image.png](attachment:image.png)"
   ]
  },
  {
   "cell_type": "code",
   "execution_count": 8,
   "metadata": {},
   "outputs": [
    {
     "name": "stdout",
     "output_type": "stream",
     "text": [
      "                * \n",
      "              * * \n",
      "            * * * \n",
      "          * * * * \n",
      "        * * * * * \n",
      "      * * * * * * \n",
      "    * * * * * * * \n",
      "  * * * * * * * * \n"
     ]
    }
   ],
   "source": [
    "# lets do 8 rows starting from the 1st row\n",
    "for i in range(0,8):\n",
    "    #handle indentations on the first row we want 7 indentations\n",
    "    for j in range(8-i):\n",
    "        print(' ', end = ' ')\n",
    "    #handle printing stars we want 1 star on the first row, then 2, then 3 etc, so when i=0 we actually want 1 so it should be i+1\n",
    "    for k in range(i+1):\n",
    "        print('*', end =' ')\n",
    "    print()"
   ]
  },
  {
   "attachments": {
    "image.png": {
     "image/png": "[encoded data removed]"
    }
   },
   "cell_type": "markdown",
   "metadata": {},
   "source": [
    "#### Another right angle sided traingle \n",
    "![image.png](attachment:image.png)"
   ]
  },
  {
   "cell_type": "code",
   "execution_count": 23,
   "metadata": {},
   "outputs": [
    {
     "name": "stdout",
     "output_type": "stream",
     "text": [
      "  * * * * * * * * \n",
      "    * * * * * * * \n",
      "      * * * * * * \n",
      "        * * * * * \n",
      "          * * * * \n",
      "            * * * \n",
      "              * * \n",
      "                * \n"
     ]
    }
   ],
   "source": [
    "# lets do 8 rows starting from the 1st row \n",
    "for i in range(0,8):\n",
    "    #handle indentations - we don't need any indentations on row 1 but then we need more as i increases\n",
    "    for j in range(i+1):\n",
    "        print(' ', end = ' ')\n",
    "    #handle printing stars - we need all stars on 1st row but to decrease onwards when i=0, we want 8 starts, when i=1 we want 7 stars etc\n",
    "    for k in range(8-i):\n",
    "        print('*', end =' ')\n",
    "    print()"
   ]
  },
  {
   "attachments": {
    "image.png": {
     "image/png": "[encoded data removed]"
    }
   },
   "cell_type": "markdown",
   "metadata": {},
   "source": [
    "#### 13.5 Weird Triangle\n",
    "![image.png](attachment:image.png)"
   ]
  },
  {
   "cell_type": "code",
   "execution_count": null,
   "metadata": {},
   "outputs": [],
   "source": [
    "# COMMENT ALL LINES ctrl+ a then CTRL+K+C\n",
    "# REMOVE ALL COMMENTS ctrl+ a then CTRL+K+U\n",
    " \n",
    " \n",
    "# # lets start with 9 rows and assume the chnage in the shape will be on the 4th row\n",
    "# for i in range(0,9):\n",
    "#     #handle the indentation as this will start off flat but will go more narrow so say intentation is 2 spaces from lowest row to 5th row\n",
    "#     for j in range(0,5):\n",
    "#         print('  ', end = ' ')\n",
    "#     for k in range(5,9):\n",
    "#         print('', end=' ')\n",
    "#     #handle printing stars\n",
    "#     for l in range():\n",
    "#         print('*', )\n"
   ]
  },
  {
   "cell_type": "markdown",
   "metadata": {},
   "source": [
    "#### 14. Break Continue Pass \n",
    "\n",
    "* break = terminate loop\n",
    "* skips to the next iteration of the loop\n",
    "* pass = does nothing acts as a placeholder"
   ]
  },
  {
   "cell_type": "code",
   "execution_count": 29,
   "metadata": {},
   "outputs": [],
   "source": [
    "while True:\n",
    "    name = input('Enter your name: ')\n",
    "    if name !=\"\":\n",
    "        break # allows you to break out of the loop if name is not blank"
   ]
  },
  {
   "cell_type": "code",
   "execution_count": 37,
   "metadata": {},
   "outputs": [
    {
     "name": "stdout",
     "output_type": "stream",
     "text": [
      "27674537483"
     ]
    }
   ],
   "source": [
    "phone_number = \"276-745-374-83\"\n",
    "\n",
    "for i in phone_number: #for each element in phone number\n",
    "    if i == \"-\": #find the -\n",
    "        continue # continue to the next element\n",
    "    print(i, end='') #print the phone number without dash on same line\n"
   ]
  },
  {
   "cell_type": "code",
   "execution_count": 39,
   "metadata": {},
   "outputs": [
    {
     "name": "stdout",
     "output_type": "stream",
     "text": [
      "Jordan ngl-Stvns"
     ]
    }
   ],
   "source": [
    "my_name = 'Jordan Engel-Stevens'\n",
    "for i in my_name:\n",
    "    if i == 'E' or i=='e':\n",
    "        continue\n",
    "    print(i, end='')"
   ]
  },
  {
   "cell_type": "code",
   "execution_count": 50,
   "metadata": {},
   "outputs": [
    {
     "name": "stdout",
     "output_type": "stream",
     "text": [
      "1\n",
      "2\n",
      "3\n",
      "4\n",
      "5\n",
      "6\n",
      "7\n",
      "8\n",
      "9\n",
      "10\n",
      "11\n"
     ]
    }
   ],
   "source": [
    "for i in range(1,12):\n",
    "    if i ==13:\n",
    "        pass\n",
    "    else:\n",
    "        print(i)"
   ]
  },
  {
   "cell_type": "markdown",
   "metadata": {},
   "source": [
    "#### 15. Lists\n",
    "\n",
    "used to store multiple items in a single variable"
   ]
  },
  {
   "cell_type": "code",
   "execution_count": 57,
   "metadata": {},
   "outputs": [
    {
     "name": "stdout",
     "output_type": "stream",
     "text": [
      "hot dog\n"
     ]
    }
   ],
   "source": [
    "food = ['pizza', 'hamburgers', 'hot dog', 'spaghetti']\n",
    "print(food[2]) #print out hot dog"
   ]
  },
  {
   "cell_type": "code",
   "execution_count": 58,
   "metadata": {},
   "outputs": [
    {
     "name": "stdout",
     "output_type": "stream",
     "text": [
      "['sushi', 'hamburgers', 'hot dog', 'spaghetti']\n"
     ]
    }
   ],
   "source": [
    "food[0] = 'sushi' #change element 0 to be sushi in pizza variable\n",
    "print(food)"
   ]
  },
  {
   "cell_type": "code",
   "execution_count": 59,
   "metadata": {},
   "outputs": [
    {
     "name": "stdout",
     "output_type": "stream",
     "text": [
      "sushi\n",
      "hamburgers\n",
      "hot dog\n",
      "spaghetti\n"
     ]
    }
   ],
   "source": [
    "for x in food:\n",
    "    print(x)"
   ]
  },
  {
   "cell_type": "code",
   "execution_count": 60,
   "metadata": {},
   "outputs": [
    {
     "name": "stdout",
     "output_type": "stream",
     "text": [
      "['sushi', 'hamburgers', 'hot dog', 'spaghetti', 'ice cream']\n",
      "['sushi', 'hamburgers', 'spaghetti', 'ice cream']\n",
      "['sushi', 'hamburgers', 'spaghetti']\n",
      "['cake', 'sushi', 'hamburgers', 'spaghetti']\n",
      "['cake', 'hamburgers', 'spaghetti', 'sushi']\n",
      "[]\n"
     ]
    }
   ],
   "source": [
    "#List methods\n",
    "\n",
    "food.append('ice cream') #add ice cream to end of list\n",
    "print(food)\n",
    "food.remove('hot dog') #rmeove hot dog\n",
    "print(food)\n",
    "food.pop() #rmeove the last element \n",
    "print(food)\n",
    "food.insert(0, 'cake') #remove the first position element in this case it was sushi and change it with cake\n",
    "print(food)\n",
    "food.sort() #sorts alphabetically\n",
    "print(food)\n",
    "food.clear() #clear the list\n",
    "print(food)"
   ]
  },
  {
   "cell_type": "markdown",
   "metadata": {},
   "source": [
    "#### 16. 2D Lists"
   ]
  },
  {
   "cell_type": "code",
   "execution_count": 64,
   "metadata": {},
   "outputs": [
    {
     "name": "stdout",
     "output_type": "stream",
     "text": [
      "[['coffee', 'soda', 'tea'], ['pizza', 'hamburger', 'hot dog'], ['cake', 'ice cream']]\n",
      "['pizza', 'hamburger', 'hot dog']\n",
      "pizza\n"
     ]
    }
   ],
   "source": [
    "drinks = ['coffee', 'soda', 'tea']\n",
    "dinner = ['pizza', 'hamburger', 'hot dog']\n",
    "desert = ['cake', 'ice cream']\n",
    "\n",
    "food = [drinks, dinner, desert]\n",
    "print(food) #prints 3 elements i.e. drinks, dinner, tea\n",
    "\n",
    "print(food[1]) #go to dinner\n",
    "\n",
    "print(food[1][0]) #look into pizza i.e. element 0 of the dinner list which is element 1 i.e. [1][0]\n"
   ]
  },
  {
   "cell_type": "markdown",
   "metadata": {},
   "source": [
    "#### 17. Tuples\n",
    "\n",
    "ordered and unchangeable\n",
    "\n",
    "* useful for grouping relatable data"
   ]
  },
  {
   "cell_type": "code",
   "execution_count": 66,
   "metadata": {},
   "outputs": [
    {
     "name": "stdout",
     "output_type": "stream",
     "text": [
      "1\n",
      "2\n"
     ]
    }
   ],
   "source": [
    "student = ('Jordan', 31, 'male')\n",
    "\n",
    "#Tuple methods\n",
    "print(student.count('Jordan'))\n",
    "print(student.index('male'))"
   ]
  },
  {
   "cell_type": "code",
   "execution_count": 67,
   "metadata": {},
   "outputs": [
    {
     "name": "stdout",
     "output_type": "stream",
     "text": [
      "Jordan\n",
      "31\n",
      "male\n"
     ]
    }
   ],
   "source": [
    "for x in student:\n",
    "    print(x)"
   ]
  },
  {
   "cell_type": "code",
   "execution_count": 68,
   "metadata": {},
   "outputs": [
    {
     "name": "stdout",
     "output_type": "stream",
     "text": [
      "Jordan is here\n"
     ]
    }
   ],
   "source": [
    "if 'Jordan' in student:\n",
    "    print('Jordan is here')"
   ]
  },
  {
   "cell_type": "markdown",
   "metadata": {},
   "source": [
    "#### 18. Sets\n",
    "collection which is unordered and unidexed, don't allow duplicate values"
   ]
  },
  {
   "cell_type": "code",
   "execution_count": 75,
   "metadata": {},
   "outputs": [
    {
     "name": "stdout",
     "output_type": "stream",
     "text": [
      "fork\n",
      "spoon\n",
      "knife\n"
     ]
    }
   ],
   "source": [
    "utensiles = {'fork', 'knife', 'spoon'}\n",
    "for x in utensiles:\n",
    "    print(x) #when we print a set it may not be in the same order in which we placed them i.e. spoon is printed before knife but spoon was our last element"
   ]
  },
  {
   "cell_type": "code",
   "execution_count": 77,
   "metadata": {},
   "outputs": [
    {
     "name": "stdout",
     "output_type": "stream",
     "text": [
      "fork\n",
      "knife\n"
     ]
    }
   ],
   "source": [
    "utensiles2 = {'fork', 'knife', 'fork'}\n",
    "for x in utensiles2:\n",
    "    print(x) # dosen't allow duplicate vaues so only prints 1 knife"
   ]
  },
  {
   "cell_type": "code",
   "execution_count": 78,
   "metadata": {},
   "outputs": [
    {
     "name": "stdout",
     "output_type": "stream",
     "text": [
      "{'fork', 'spoon', 'napkin', 'knife'}\n",
      "{'spoon', 'napkin', 'knife'}\n",
      "set()\n"
     ]
    }
   ],
   "source": [
    "utensiles.add('napkin') #add napkin to set\n",
    "print(utensiles)\n",
    "utensiles.remove('fork') # rmeove fork from set\n",
    "print(utensiles)\n",
    "utensiles.clear() #clear all items\n",
    "print(utensiles)"
   ]
  },
  {
   "cell_type": "code",
   "execution_count": 82,
   "metadata": {},
   "outputs": [
    {
     "name": "stdout",
     "output_type": "stream",
     "text": [
      "{'spoon', 'plate', 'bowl', 'fork', 'cup', 'knife'}\n",
      "spoon\n",
      "plate\n",
      "bowl\n",
      "fork\n",
      "cup\n",
      "knife\n"
     ]
    }
   ],
   "source": [
    "utensiles = {'fork', 'knife', 'spoon'}\n",
    "dishes = {'bowl', 'plate', 'cup'}\n",
    "\n",
    "utensiles.update(dishes) #add the elements in dishes to utensiles set\n",
    "\n",
    "print(utensiles)\n",
    "\n",
    "for x in utensiles:\n",
    "    print(x)\n"
   ]
  },
  {
   "cell_type": "code",
   "execution_count": 83,
   "metadata": {},
   "outputs": [
    {
     "name": "stdout",
     "output_type": "stream",
     "text": [
      "{'plate', 'bowl', 'cup', 'spoon', 'fork', 'knife'}\n",
      "plate\n",
      "bowl\n",
      "cup\n",
      "spoon\n",
      "fork\n",
      "knife\n"
     ]
    }
   ],
   "source": [
    "dinner_table = utensiles.union(dishes) # can also join sets using union\n",
    "\n",
    "print(dinner_table)\n",
    "\n",
    "for x in dinner_table:\n",
    "    print(x)\n"
   ]
  },
  {
   "cell_type": "code",
   "execution_count": 85,
   "metadata": {},
   "outputs": [
    {
     "name": "stdout",
     "output_type": "stream",
     "text": [
      "{'fork', 'spoon'}\n",
      "{'knife'}\n"
     ]
    }
   ],
   "source": [
    "utensiles = {'fork', 'knife', 'spoon'}\n",
    "dishes = {'bowl', 'plate', 'cup', 'knife'} #add knife in dishes\n",
    "\n",
    "print(utensiles.difference(dishes)) #what do utensiles have that dishes dosen't\n",
    "\n",
    "print(utensiles.intersection(dishes)) #what they have in common"
   ]
  },
  {
   "cell_type": "markdown",
   "metadata": {},
   "source": [
    "#### 19. Dictionaries\n",
    "\n",
    "changeable unordered collection of unique key values pairs. They are fast because they use hashing to allow us to access value quickly"
   ]
  },
  {
   "cell_type": "code",
   "execution_count": 86,
   "metadata": {},
   "outputs": [
    {
     "name": "stdout",
     "output_type": "stream",
     "text": [
      "Washington DC\n"
     ]
    }
   ],
   "source": [
    "capitals = {'USA': 'Washington DC', \n",
    "            'England': 'London', \n",
    "            'France': 'Paris', \n",
    "            'Russia':'Moscow'}\n",
    "\n",
    "print(capitals['USA']) #print the value assciated with USA\n",
    "# print(capitals['Germany']) #creates an error not safe to use. Get method is much safer\n"
   ]
  },
  {
   "cell_type": "code",
   "execution_count": 90,
   "metadata": {},
   "outputs": [
    {
     "name": "stdout",
     "output_type": "stream",
     "text": [
      "None\n",
      "dict_keys(['USA', 'England', 'France', 'Russia'])\n",
      "dict_values(['Washington DC', 'London', 'Paris', 'Moscow'])\n",
      "dict_items([('USA', 'Washington DC'), ('England', 'London'), ('France', 'Paris'), ('Russia', 'Moscow')])\n"
     ]
    }
   ],
   "source": [
    "print(capitals.get('Germany')) # check to see if there is a key within dictonary\n",
    "print(capitals.keys()) # print keys of dict\n",
    "print(capitals.values()) #print values\n",
    "print(capitals.items()) #print everything"
   ]
  },
  {
   "cell_type": "code",
   "execution_count": 92,
   "metadata": {},
   "outputs": [
    {
     "name": "stdout",
     "output_type": "stream",
     "text": [
      "USA Washington DC\n",
      "England London\n",
      "France Paris\n",
      "Russia Moscow\n"
     ]
    }
   ],
   "source": [
    "for key, value in capitals.items():\n",
    "    print(key, value)"
   ]
  },
  {
   "cell_type": "code",
   "execution_count": 95,
   "metadata": {},
   "outputs": [
    {
     "name": "stdout",
     "output_type": "stream",
     "text": [
      "USA Las Vegas\n",
      "England London\n",
      "France Paris\n",
      "Russia Moscow\n",
      "German Berlin\n",
      "Germany Berlin\n"
     ]
    }
   ],
   "source": [
    "capitals.update({'Germany': 'Berlin'}) #add germany to the ditionary\n",
    "\n",
    "for key, value in capitals.items():\n",
    "    print(key, value)"
   ]
  },
  {
   "cell_type": "code",
   "execution_count": 96,
   "metadata": {},
   "outputs": [
    {
     "name": "stdout",
     "output_type": "stream",
     "text": [
      "USA Las Vegas\n",
      "England London\n",
      "France Paris\n",
      "Russia Moscow\n",
      "German Berlin\n",
      "Germany Berlin\n"
     ]
    }
   ],
   "source": [
    "capitals.update({'USA': 'Las Vegas'}) #update value for USA\n",
    "\n",
    "for key, value in capitals.items():\n",
    "    print(key, value)"
   ]
  },
  {
   "cell_type": "code",
   "execution_count": 98,
   "metadata": {},
   "outputs": [
    {
     "name": "stdout",
     "output_type": "stream",
     "text": [
      "USA Las Vegas\n",
      "France Paris\n",
      "Russia Moscow\n",
      "German Berlin\n",
      "Germany Berlin\n"
     ]
    }
   ],
   "source": [
    "capitals.pop('England') #remove England from dict\n",
    "\n",
    "for key, value in capitals.items():\n",
    "    print(key, value)"
   ]
  },
  {
   "cell_type": "code",
   "execution_count": 99,
   "metadata": {},
   "outputs": [
    {
     "name": "stdout",
     "output_type": "stream",
     "text": [
      "dict_items([])\n"
     ]
    }
   ],
   "source": [
    "capitals.clear()\n",
    "\n",
    "print(capitals.items())"
   ]
  },
  {
   "cell_type": "markdown",
   "metadata": {},
   "source": [
    "#### 20. Indexing"
   ]
  },
  {
   "cell_type": "code",
   "execution_count": 100,
   "metadata": {},
   "outputs": [
    {
     "name": "stdout",
     "output_type": "stream",
     "text": [
      "Jordan stevens\n"
     ]
    }
   ],
   "source": [
    "name = 'jordan Stevens'\n",
    "\n",
    "#capitalise first letter in name\n",
    "if(name[0].islower):\n",
    "    name = name.capitalize()\n",
    "print(name)"
   ]
  },
  {
   "cell_type": "code",
   "execution_count": 105,
   "metadata": {},
   "outputs": [
    {
     "name": "stdout",
     "output_type": "stream",
     "text": [
      "JORDAN\n",
      "stevens\n",
      "s\n"
     ]
    }
   ],
   "source": [
    "first_name = name[0:6].upper() #capitailse first name\n",
    "print(first_name)\n",
    "\n",
    "last_name = name[7:].lower() #lowercase last name\n",
    "print(last_name)\n",
    "\n",
    "last_character = name[-1] #see last element in name\n",
    "print(last_character)"
   ]
  },
  {
   "cell_type": "markdown",
   "metadata": {},
   "source": [
    "##### 21. Funcitons\n",
    "\n",
    "block of code whihc is exeucted only when it is called = invoking a function"
   ]
  },
  {
   "cell_type": "code",
   "execution_count": 106,
   "metadata": {},
   "outputs": [
    {
     "name": "stdout",
     "output_type": "stream",
     "text": [
      "hello\n"
     ]
    }
   ],
   "source": [
    "def hello(): #function name is hello\n",
    "    print('Hello') #do this\n",
    "    print('Have a nice day!')\n",
    "\n",
    "hello() #call function to execute it"
   ]
  },
  {
   "cell_type": "code",
   "execution_count": 108,
   "metadata": {},
   "outputs": [
    {
     "name": "stdout",
     "output_type": "stream",
     "text": [
      "Hello jordan\n",
      "Have a nice day!\n"
     ]
    }
   ],
   "source": [
    "name = 'jordan' #global scope\n",
    "def hello(): #function name is hello\n",
    "    print('Hello ' + name) #do this\n",
    "    print('Have a nice day!')\n",
    "\n",
    "hello() #call function to execute it"
   ]
  },
  {
   "cell_type": "code",
   "execution_count": 109,
   "metadata": {},
   "outputs": [
    {
     "name": "stdout",
     "output_type": "stream",
     "text": [
      "Hello jordan\n",
      "Have a nice day!\n"
     ]
    }
   ],
   "source": [
    "def hello(): #function name is hello\n",
    "    name = 'jordan' #local scope\n",
    "    print('Hello ' + name) #do this\n",
    "    print('Have a nice day!')\n",
    "\n",
    "hello() #call function to execute it"
   ]
  },
  {
   "cell_type": "code",
   "execution_count": 110,
   "metadata": {},
   "outputs": [
    {
     "name": "stdout",
     "output_type": "stream",
     "text": [
      "Hello jordan\n",
      "Have a nice day!\n"
     ]
    }
   ],
   "source": [
    "def hello(callname): #function name is hello passing in 1 arguement\n",
    "    print('Hello ' + name) #do this\n",
    "    print('Have a nice day!')\n",
    "\n",
    "hello('Jordan') #set arguement within function"
   ]
  },
  {
   "cell_type": "code",
   "execution_count": 112,
   "metadata": {},
   "outputs": [
    {
     "name": "stdout",
     "output_type": "stream",
     "text": [
      "Hello Jordan Stevens\n",
      "Have a nice day!\n"
     ]
    }
   ],
   "source": [
    "def hello(firstname, lastname): #function name passing in 2 arguements\n",
    "    print('Hello ' + firstname +' '+ lastname) #do this\n",
    "    print('Have a nice day!')\n",
    "\n",
    "hello('Jordan', 'Stevens') #set arguement within function"
   ]
  },
  {
   "cell_type": "code",
   "execution_count": 116,
   "metadata": {},
   "outputs": [
    {
     "name": "stdout",
     "output_type": "stream",
     "text": [
      "Hello Jordan Stevens\n",
      "You are aged 31\n",
      "Have a nice day!\n"
     ]
    }
   ],
   "source": [
    "def hello(firstname, lastname, age): #function name passing in 3 arguements\n",
    "    print('Hello ' + firstname +' '+ lastname) #do this\n",
    "    print('You are aged ' + str(age))\n",
    "    print('Have a nice day!')\n",
    "\n",
    "hello('Jordan', 'Stevens', 31) #set arguement within function"
   ]
  },
  {
   "cell_type": "markdown",
   "metadata": {},
   "source": [
    "#### 22. Return Statements\n",
    "\n",
    "functions send python values/objects back to callers. These are known as a functions return value"
   ]
  },
  {
   "cell_type": "code",
   "execution_count": 117,
   "metadata": {},
   "outputs": [
    {
     "name": "stdout",
     "output_type": "stream",
     "text": [
      "6\n"
     ]
    }
   ],
   "source": [
    "def multiply(number_1, number_2): #multpople is a function name\n",
    "    result = number_1*number_2 #we want it to do this\n",
    "    return result #return the result\n",
    "\n",
    "print(multiply(2,3))"
   ]
  },
  {
   "cell_type": "code",
   "execution_count": 118,
   "metadata": {},
   "outputs": [
    {
     "name": "stdout",
     "output_type": "stream",
     "text": [
      "6\n"
     ]
    }
   ],
   "source": [
    "def multiply(number_1, number_2):\n",
    "    result = number_1*number_2\n",
    "    return result\n",
    "\n",
    "x = multiply(2,3)\n",
    "print(x)"
   ]
  },
  {
   "cell_type": "code",
   "execution_count": 119,
   "metadata": {},
   "outputs": [
    {
     "name": "stdout",
     "output_type": "stream",
     "text": [
      "6\n"
     ]
    }
   ],
   "source": [
    "def multiply(number_1, number_2): \n",
    "    return number_1*number_2 #shorter way\n",
    "\n",
    "print(multiply(2,3))"
   ]
  },
  {
   "cell_type": "markdown",
   "metadata": {},
   "source": [
    "#### 23. Keyword Arguements\n",
    "\n",
    "* Arguements preceeded by an identifier when we pass them to a function. \n",
    "* The order of the arguements dosen't matter, unlike positional arguements, python knows the names of the arguements that our function receives"
   ]
  },
  {
   "cell_type": "code",
   "execution_count": 2,
   "metadata": {},
   "outputs": [
    {
     "name": "stdout",
     "output_type": "stream",
     "text": [
      "hello Jordan hersh stevens\n"
     ]
    }
   ],
   "source": [
    "def hello(first, middle,last):\n",
    "    print('hello ' + first + ' '+middle + ' '+ last)\n",
    "    \n",
    "hello(last = 'stevens', middle = 'hersh', first = 'Jordan')"
   ]
  },
  {
   "cell_type": "markdown",
   "metadata": {},
   "source": [
    "#### 24. Nested Function Calls \n",
    "\n",
    "* function calls inside other funciton calls\n",
    "* inner most function calls are resolved first\n",
    "* returned value is used as arguement for the most outer function"
   ]
  },
  {
   "cell_type": "code",
   "execution_count": null,
   "metadata": {},
   "outputs": [],
   "source": [
    "# num = input('Enter a whole positive number: ')\n",
    "# num = float(num) #convert num to float as its currently a string\n",
    "# num = abs(num) #find absolute value\n",
    "# num = round(num) #then round to get integer\n",
    "# print(num)\n"
   ]
  },
  {
   "cell_type": "code",
   "execution_count": 3,
   "metadata": {},
   "outputs": [
    {
     "name": "stdout",
     "output_type": "stream",
     "text": [
      "10\n"
     ]
    }
   ],
   "source": [
    "#EASIER WAY IS THIS\n",
    "\n",
    "print(round(abs(float(input('Enter a whole positive number: ')))))"
   ]
  },
  {
   "cell_type": "markdown",
   "metadata": {},
   "source": [
    "#### 25. Variable Scope\n",
    "\n",
    "Scope is the region that the variable is recognised\n",
    "* A variable is only avaialable form inside the region that it is created\n",
    "* A global and locally scoped version of a variable can be created\n"
   ]
  },
  {
   "cell_type": "code",
   "execution_count": 6,
   "metadata": {},
   "outputs": [
    {
     "name": "stdout",
     "output_type": "stream",
     "text": [
      "local_Jordan\n",
      "global_Jordan\n"
     ]
    }
   ],
   "source": [
    "name = 'global_Jordan' #global as its on the 1st intentation available file wide\n",
    "\n",
    "def display_name():\n",
    "    name = 'local_Jordan' #local variable\n",
    "    print(name)\n",
    "    \n",
    "display_name() #call the function which prints local variable\n",
    "print(name) #call global"
   ]
  },
  {
   "cell_type": "code",
   "execution_count": 7,
   "metadata": {},
   "outputs": [
    {
     "name": "stdout",
     "output_type": "stream",
     "text": [
      "global_Jordan\n",
      "global_Jordan\n"
     ]
    }
   ],
   "source": [
    "name = 'global_Jordan' #global as its on the 1st intentation available file wide\n",
    "\n",
    "def display_name():\n",
    "    #name = 'local_Jordan' #local variable\n",
    "    print(name)\n",
    "    \n",
    "display_name() #call the function which prints local variable but local variable is no longer in local scope so it searches for it in global scope\n",
    "print(name) #call global"
   ]
  },
  {
   "cell_type": "markdown",
   "metadata": {},
   "source": [
    "#### 26. Args \n",
    "\n",
    "Parameter that will pack al arguements into a tuple which is useful so that a function can accept a varying amoutn of args"
   ]
  },
  {
   "cell_type": "code",
   "execution_count": 8,
   "metadata": {},
   "outputs": [
    {
     "name": "stdout",
     "output_type": "stream",
     "text": [
      "3\n"
     ]
    }
   ],
   "source": [
    "def add(num1,num2):\n",
    "    sum = num1 + num2\n",
    "    return sum \n",
    "\n",
    "print(add(1,2)) #only takes 2 parameter args so one way to resolve this is pass in *args..."
   ]
  },
  {
   "cell_type": "code",
   "execution_count": 10,
   "metadata": {},
   "outputs": [
    {
     "name": "stdout",
     "output_type": "stream",
     "text": [
      "21\n"
     ]
    }
   ],
   "source": [
    "def add(*args): #*allows you to pass in more arguements\n",
    "    sum = 0\n",
    "    for i in args: \n",
    "        sum += i\n",
    "    return sum\n",
    "\n",
    "print(add(1,2,3,4,5,6)) #pass a range of values into our arguement"
   ]
  },
  {
   "cell_type": "code",
   "execution_count": 11,
   "metadata": {},
   "outputs": [
    {
     "name": "stdout",
     "output_type": "stream",
     "text": [
      "21\n"
     ]
    }
   ],
   "source": [
    "def add(*stuff): #*name it what you want\n",
    "    sum = 0\n",
    "    for i in stuff: #*name it what you want\n",
    "        sum += i\n",
    "    return sum\n",
    "\n",
    "print(add(1,2,3,4,5,6)) "
   ]
  },
  {
   "cell_type": "code",
   "execution_count": 12,
   "metadata": {},
   "outputs": [
    {
     "name": "stdout",
     "output_type": "stream",
     "text": [
      "20\n"
     ]
    }
   ],
   "source": [
    "def add(*stuff): \n",
    "    sum = 0\n",
    "    stuff = list(stuff) #convert stuff to list\n",
    "    stuff[0] = 0 #change value in index 0 to 0 i.e. change 1 to 0 as our first input is 1\n",
    "    for i in stuff: \n",
    "        sum += i\n",
    "    return sum\n",
    "\n",
    "print(add(1,2,3,4,5,6)) "
   ]
  },
  {
   "cell_type": "markdown",
   "metadata": {},
   "source": [
    "#### 27. kwargs\n",
    "Parameter that will pack all arguements into a dictionary which is useful so that a function can accept a varying amount of keyword arguements\n",
    "* kwarg = key word arguements"
   ]
  },
  {
   "cell_type": "code",
   "execution_count": 13,
   "metadata": {},
   "outputs": [
    {
     "name": "stdout",
     "output_type": "stream",
     "text": [
      "Hello Jordan Stevens\n"
     ]
    }
   ],
   "source": [
    "def hello(first, last):\n",
    "    print('Hello ' + first + ' ' + last)\n",
    "\n",
    "hello(first = 'Jordan', last = 'Stevens') #again only accepts 2 arguements"
   ]
  },
  {
   "cell_type": "code",
   "execution_count": 19,
   "metadata": {},
   "outputs": [
    {
     "name": "stdout",
     "output_type": "stream",
     "text": [
      "Hello Jordan Stevens\n"
     ]
    }
   ],
   "source": [
    "def hello(**kwargs):\n",
    "    print('Hello ' + kwargs['first'] + ' ' + kwargs['last']) #access the value of keword of first, last\n",
    "\n",
    "hello(first = 'Jordan', middle = 'hersh', last = 'Stevens',CHICKEN = 'baby', golf = 'titleist') #here we add a middle but our print statement accepts as we have kwargs statement as its specifying only first and last"
   ]
  },
  {
   "cell_type": "code",
   "execution_count": 18,
   "metadata": {},
   "outputs": [
    {
     "name": "stdout",
     "output_type": "stream",
     "text": [
      "Hello Jordan Hersh Stevens baby titleist "
     ]
    }
   ],
   "source": [
    "def hello(**kwargs):\n",
    "    print('Hello', end = ' ')\n",
    "    for key, value in kwargs.items():\n",
    "        print(value, end = ' ')\n",
    "    \n",
    "hello(first = 'Jordan', middle = 'Hersh', last = 'Stevens')"
   ]
  },
  {
   "cell_type": "markdown",
   "metadata": {},
   "source": [
    "#### 28. String Format \n",
    "optional method that gives users more contorl when displaying output"
   ]
  },
  {
   "cell_type": "code",
   "execution_count": 20,
   "metadata": {},
   "outputs": [
    {
     "name": "stdout",
     "output_type": "stream",
     "text": [
      "The cow jumped over the moon\n"
     ]
    }
   ],
   "source": [
    "animal = 'cow'\n",
    "item = 'moon'\n",
    "\n",
    "print('The {} jumped over the {}'.format('cow','moon'))"
   ]
  },
  {
   "cell_type": "code",
   "execution_count": 21,
   "metadata": {},
   "outputs": [
    {
     "name": "stdout",
     "output_type": "stream",
     "text": [
      "The cow jumped over the moon\n"
     ]
    }
   ],
   "source": [
    "print('The {} jumped over the {}'.format(animal,item))"
   ]
  },
  {
   "cell_type": "code",
   "execution_count": 22,
   "metadata": {},
   "outputs": [
    {
     "name": "stdout",
     "output_type": "stream",
     "text": [
      "The cow jumped over the moon\n"
     ]
    }
   ],
   "source": [
    "print('The {1} jumped over the {0}'.format(item,animal)) #indexing what should go where i.e. animal{1} should be first, then moon{0}"
   ]
  },
  {
   "cell_type": "code",
   "execution_count": 25,
   "metadata": {},
   "outputs": [
    {
     "name": "stdout",
     "output_type": "stream",
     "text": [
      "The penguin jumped over the ice berg\n"
     ]
    }
   ],
   "source": [
    "print('The {animal} jumped over the {item}'.format(animal='penguin',item='ice berg'))"
   ]
  },
  {
   "cell_type": "code",
   "execution_count": 26,
   "metadata": {},
   "outputs": [
    {
     "name": "stdout",
     "output_type": "stream",
     "text": [
      "The cow jumped ver the moon\n"
     ]
    }
   ],
   "source": [
    "animal = 'cow'\n",
    "item = 'moon'\n",
    "\n",
    "text = 'The {} jumped ver the {}'\n",
    "print(text.format(animal, item))"
   ]
  },
  {
   "cell_type": "code",
   "execution_count": 33,
   "metadata": {},
   "outputs": [
    {
     "name": "stdout",
     "output_type": "stream",
     "text": [
      "Hello, my name is Jordan .Nice to meet you\n",
      "Hello, my name is Jordan     .Nice to meet you\n",
      "Hello, my name is     Jordan .Nice to meet you\n",
      "Hello, my name is   Jordan   .Nice to meet you\n",
      "Hello, my name is Jordan     .Nice to meet you\n"
     ]
    }
   ],
   "source": [
    "name = 'Jordan'\n",
    "\n",
    "print('Hello, my name is {} .Nice to meet you'.format(name))\n",
    "print('Hello, my name is {:10} .Nice to meet you'.format(name)) #space \n",
    "\n",
    "print('Hello, my name is {:>10} .Nice to meet you'.format(name)) #rght allign value \n",
    "print('Hello, my name is {:^10} .Nice to meet you'.format(name)) #centre allign value\n",
    "print('Hello, my name is {:<10} .Nice to meet you'.format(name)) #left allign value which is default"
   ]
  },
  {
   "cell_type": "code",
   "execution_count": 34,
   "metadata": {},
   "outputs": [
    {
     "name": "stdout",
     "output_type": "stream",
     "text": [
      "The number pi is 3.14\n"
     ]
    }
   ],
   "source": [
    "number = 3.14159\n",
    "\n",
    "#want to display to 2.dp \n",
    "print('The number pi is {:.2f}'.format(number)) #.2f is 2 dp\n"
   ]
  },
  {
   "cell_type": "code",
   "execution_count": 39,
   "metadata": {},
   "outputs": [
    {
     "name": "stdout",
     "output_type": "stream",
     "text": [
      "The number is 1,000\n",
      "The number is 1111101000\n",
      "The number is 1750\n",
      "The number is 3e8\n",
      "The number is 1.000000e+03\n"
     ]
    }
   ],
   "source": [
    "number = 1000\n",
    "\n",
    "#want to display to 2.dp \n",
    "print('The number is {:,}'.format(number)) #comma \n",
    "print('The number is {:b}'.format(number)) #binary represenation of your number \n",
    "print('The number is {:o}'.format(number)) #octo \n",
    "print('The number is {:x}'.format(number)) #hexadecimal \n",
    "print('The number is {:e}'.format(number)) #scientific notation \n",
    "\n"
   ]
  },
  {
   "cell_type": "markdown",
   "metadata": {},
   "source": [
    "#### 29. Random Numbers using random module\n"
   ]
  },
  {
   "cell_type": "code",
   "execution_count": 43,
   "metadata": {},
   "outputs": [
    {
     "name": "stdout",
     "output_type": "stream",
     "text": [
      "6\n"
     ]
    }
   ],
   "source": [
    "import random\n",
    "\n",
    "x = random.randint(1,6) # random numbers between 1 and 6 \n",
    "print(x)"
   ]
  },
  {
   "cell_type": "code",
   "execution_count": 45,
   "metadata": {},
   "outputs": [
    {
     "name": "stdout",
     "output_type": "stream",
     "text": [
      "0.8201282824911043\n"
     ]
    }
   ],
   "source": [
    "y = random.random() #random number between 0 and 1\n",
    "print(y)"
   ]
  },
  {
   "cell_type": "code",
   "execution_count": 48,
   "metadata": {},
   "outputs": [
    {
     "name": "stdout",
     "output_type": "stream",
     "text": [
      "Paper\n"
     ]
    }
   ],
   "source": [
    "myList = ['rock', 'Paper', 'Scissors']\n",
    "z = random.choice(myList)\n",
    "print(z) "
   ]
  },
  {
   "cell_type": "code",
   "execution_count": 49,
   "metadata": {},
   "outputs": [
    {
     "name": "stdout",
     "output_type": "stream",
     "text": [
      "[1, 'K', 4, 9, 'Q', 'J', 10, 2, 3, 8, 6, 'A', 7, 5]\n"
     ]
    }
   ],
   "source": [
    "cards = [1,2,3,4,5,6,7,8,9,10,'J','Q','K','A']\n",
    "random.shuffle(cards) #shuffle with shuffle a list/collection for you\n",
    "print(cards)"
   ]
  },
  {
   "cell_type": "markdown",
   "metadata": {},
   "source": [
    "#### 30.Exception Handling \n",
    "\n",
    "event detected during execution that interupted the flow of a program "
   ]
  },
  {
   "cell_type": "code",
   "execution_count": 55,
   "metadata": {},
   "outputs": [
    {
     "ename": "ZeroDivisionError",
     "evalue": "division by zero",
     "output_type": "error",
     "traceback": [
      "\u001b[1;31m---------------------------------------------------------------------------\u001b[0m",
      "\u001b[1;31mZeroDivisionError\u001b[0m                         Traceback (most recent call last)",
      "Cell \u001b[1;32mIn[55], line 5\u001b[0m\n\u001b[0;32m      3\u001b[0m numerator \u001b[38;5;241m=\u001b[39m \u001b[38;5;28mint\u001b[39m(\u001b[38;5;28minput\u001b[39m(\u001b[38;5;124m'\u001b[39m\u001b[38;5;124mEnter numerator: \u001b[39m\u001b[38;5;124m'\u001b[39m)) \u001b[38;5;66;03m#5\u001b[39;00m\n\u001b[0;32m      4\u001b[0m denominator \u001b[38;5;241m=\u001b[39m \u001b[38;5;28mint\u001b[39m(\u001b[38;5;28minput\u001b[39m(\u001b[38;5;124m'\u001b[39m\u001b[38;5;124mEnter denominator: \u001b[39m\u001b[38;5;124m'\u001b[39m)) \u001b[38;5;66;03m#0\u001b[39;00m\n\u001b[1;32m----> 5\u001b[0m result \u001b[38;5;241m=\u001b[39m \u001b[43mnumerator\u001b[49m\u001b[38;5;241;43m/\u001b[39;49m\u001b[43mdenominator\u001b[49m\n\u001b[0;32m      6\u001b[0m \u001b[38;5;28mprint\u001b[39m(result)\n",
      "\u001b[1;31mZeroDivisionError\u001b[0m: division by zero"
     ]
    }
   ],
   "source": [
    "#try dividing by zero gives you an exception handling error\n",
    "\n",
    "numerator = int(input('Enter numerator: ')) #5\n",
    "denominator = int(input('Enter denominator: ')) #0\n",
    "result = numerator/denominator\n",
    "print(result)"
   ]
  },
  {
   "cell_type": "code",
   "execution_count": 56,
   "metadata": {},
   "outputs": [
    {
     "name": "stdout",
     "output_type": "stream",
     "text": [
      "Something went wrong\n"
     ]
    }
   ],
   "source": [
    "#use the try keyword when you think something may not be right and an exception so your code will run smoothly\n",
    "try:\n",
    "    numerator = int(input('Enter numerator: ')) #5\n",
    "    denominator = int(input('Enter denominator: ')) #0\n",
    "    result = numerator/denominator\n",
    "    print(result)\n",
    "except Exception:\n",
    "    print('Something went wrong')\n"
   ]
  },
  {
   "cell_type": "code",
   "execution_count": 60,
   "metadata": {},
   "outputs": [
    {
     "name": "stdout",
     "output_type": "stream",
     "text": [
      "Something went wrong\n"
     ]
    }
   ],
   "source": [
    "# to be more specific write in specific exception handling\n",
    "try:\n",
    "    numerator = int(input('Enter numerator: ')) #5\n",
    "    denominator = int(input('Enter denominator: ')) #0\n",
    "    result = numerator/denominator\n",
    "    print(result)\n",
    "except ZeroDivisionError:\n",
    "    print('You cannot divide by zero!') #division by zero\n"
   ]
  },
  {
   "cell_type": "code",
   "execution_count": 59,
   "metadata": {},
   "outputs": [
    {
     "name": "stdout",
     "output_type": "stream",
     "text": [
      "Enter only numbers please!\n"
     ]
    }
   ],
   "source": [
    "# to be more specific write in specific exception handling\n",
    "try:\n",
    "    numerator = int(input('Enter numerator: '))\n",
    "    denominator = int(input('Enter denominator: ')) \n",
    "    result = numerator/denominator\n",
    "    print(result)\n",
    "except ZeroDivisionError:\n",
    "    print('You cannot divide by zero!')\n",
    "except ValueError:\n",
    "    print('Enter only numbers please!') # if you enter a string or boolean value instead of number\n"
   ]
  },
  {
   "cell_type": "code",
   "execution_count": 64,
   "metadata": {},
   "outputs": [
    {
     "name": "stdout",
     "output_type": "stream",
     "text": [
      "division by zero\n",
      "You cannot divide by zero!\n"
     ]
    }
   ],
   "source": [
    "#use else statement\n",
    "try:\n",
    "    numerator = int(input('Enter numerator: ')) \n",
    "    denominator = int(input('Enter denominator: '))\n",
    "    result = numerator/denominator\n",
    "except ZeroDivisionError as e:\n",
    "    print(e)\n",
    "    print('You cannot divide by zero!')\n",
    "except ValueError as e:\n",
    "    print(e)\n",
    "    print('Enter only numbers please!') \n",
    "except Exception as e:\n",
    "    print(e)\n",
    "    print('soemthing went wrong')\n",
    "else:\n",
    "    print(result) # print result only if there are no exceptions\n"
   ]
  },
  {
   "cell_type": "code",
   "execution_count": 66,
   "metadata": {},
   "outputs": [
    {
     "name": "stdout",
     "output_type": "stream",
     "text": [
      "division by zero\n",
      "You cannot divide by zero!\n",
      "This will always execute\n"
     ]
    }
   ],
   "source": [
    "#use else statement\n",
    "try:\n",
    "    numerator = int(input('Enter numerator: ')) \n",
    "    denominator = int(input('Enter denominator: '))\n",
    "    result = numerator/denominator\n",
    "except ZeroDivisionError as e:\n",
    "    print(e)\n",
    "    print('You cannot divide by zero!')\n",
    "except ValueError as e:\n",
    "    print(e)\n",
    "    print('Enter only numbers please!') \n",
    "except Exception as e:\n",
    "    print(e)\n",
    "    print('soemthing went wrong')\n",
    "else:\n",
    "    print(result) \n",
    "finally:\n",
    "    print('This will always execute') # whether or not you encounter an exceptiont his finally clause will always execute good for closing files or doing something\n"
   ]
  },
  {
   "cell_type": "markdown",
   "metadata": {},
   "source": [
    "#### 31. File detection\n"
   ]
  },
  {
   "cell_type": "code",
   "execution_count": 70,
   "metadata": {},
   "outputs": [
    {
     "name": "stdout",
     "output_type": "stream",
     "text": [
      "that location exists\n"
     ]
    }
   ],
   "source": [
    "import os \n",
    "\n",
    "# check if file exists within computer \n",
    "\n",
    "path = \"C:\\\\Users\\\\JSteve40\\\\OneDrive - JNJ\\\\Documents\\\\Induction\\\\Jordan Stevens - 26_2_24.docx\" #USE DOUBLE BACKSLASH!!\n",
    "\n",
    "if os.path.exists(path):\n",
    "    print('that location exists') #check to see path exists \n",
    "else:\n",
    "    print(\"that location dosen't exist\")\n"
   ]
  },
  {
   "cell_type": "code",
   "execution_count": 72,
   "metadata": {},
   "outputs": [
    {
     "name": "stdout",
     "output_type": "stream",
     "text": [
      "that location exists\n",
      "That is a file\n"
     ]
    }
   ],
   "source": [
    "import os \n",
    "\n",
    "# check if file exists within computer \n",
    "\n",
    "path = \"C:\\\\Users\\\\JSteve40\\\\OneDrive - JNJ\\\\Documents\\\\Induction\\\\Jordan Stevens - 26_2_24.docx\" #USE DOUBLE BACKSLASH!!\n",
    "\n",
    "if os.path.exists(path):\n",
    "    print('that location exists')\n",
    "    if os.path.isfile(path): #check if this is a file \n",
    "        print('That is a file')\n",
    "else:\n",
    "    print(\"that location dosen't exist\")\n"
   ]
  },
  {
   "cell_type": "code",
   "execution_count": 75,
   "metadata": {},
   "outputs": [
    {
     "name": "stdout",
     "output_type": "stream",
     "text": [
      "that location exists\n",
      "That is a directory\n"
     ]
    }
   ],
   "source": [
    "import os \n",
    "\n",
    "# check if file exists within computer \n",
    "\n",
    "path = \"C:\\\\Users\\\\JSteve40\\\\OneDrive - JNJ\\\\Documents\\\\Induction\" #USE DOUBLE BACKSLASH if its not within current direcotry!!\n",
    "\n",
    "if os.path.exists(path):\n",
    "    print('that location exists')\n",
    "    if os.path.isfile(path): #check if this is a file \n",
    "        print('That is a file')\n",
    "    elif os.path.isdir(path):\n",
    "        print('That is a directory')\n",
    "else:\n",
    "    print(\"that location dosen't exist\")\n"
   ]
  },
  {
   "cell_type": "markdown",
   "metadata": {},
   "source": [
    "#### 32. read a file"
   ]
  },
  {
   "cell_type": "code",
   "execution_count": 2,
   "metadata": {},
   "outputs": [
    {
     "name": "stdout",
     "output_type": "stream",
     "text": [
      "Hello everyone,\n",
      "\n",
      "I'm learning how to read a file although you can do this in pandas.\n"
     ]
    }
   ],
   "source": [
    "# with open will close any files autmatically for you that have already been open\n",
    "\n",
    "with open(\"chapter 32 read file.txt\") as file: #use relative path i.e. right click on file > relative path as its in current dir\n",
    "    print(file.read())"
   ]
  },
  {
   "cell_type": "code",
   "execution_count": 3,
   "metadata": {},
   "outputs": [
    {
     "name": "stdout",
     "output_type": "stream",
     "text": [
      "That file was not found!\n"
     ]
    }
   ],
   "source": [
    "try:\n",
    "    with open(\"chapter 32 read file.tx\") as file:\n",
    "        print(file.read())\n",
    "except:\n",
    "    print('That file was not found!')"
   ]
  },
  {
   "cell_type": "markdown",
   "metadata": {},
   "source": [
    "#### 33. Write a file"
   ]
  },
  {
   "cell_type": "code",
   "execution_count": 6,
   "metadata": {},
   "outputs": [],
   "source": [
    "#creating a new text file that should appear within your current working directory\n",
    "\n",
    "text = 'Heloooooooooooo\\n This is some text \\n Have a good one!'\n",
    "\n",
    "with open(\"chapter 33 write file.txt\",'w') as file: #call this file a name -- 'w' is write a file\n",
    "    file.write(text)\n",
    "    "
   ]
  },
  {
   "cell_type": "code",
   "execution_count": 7,
   "metadata": {},
   "outputs": [],
   "source": [
    "#appending a file\n",
    "\n",
    "text = 'Have a nice day - cya!'\n",
    "\n",
    "with open(\"chapter 33 write file.txt\",'a') as file: #appending the file to add more context using 'a' mode\n",
    "    file.write(text)\n",
    "    "
   ]
  },
  {
   "cell_type": "markdown",
   "metadata": {},
   "source": [
    "#### 34. Copy a file\n",
    "\n",
    "* copyfile() = copies content of a file\n",
    "* copy() = copyfile() + permission mode + destination can be a directory\n",
    "* copy2() = copy() + copies metadata"
   ]
  },
  {
   "cell_type": "code",
   "execution_count": 8,
   "metadata": {},
   "outputs": [
    {
     "data": {
      "text/plain": [
       "'copy chapter 34.txt'"
      ]
     },
     "execution_count": 8,
     "metadata": {},
     "output_type": "execute_result"
    }
   ],
   "source": [
    "import shutil \n",
    "\n",
    "shutil.copyfile('chapter 33 write file.txt', 'copy chapter 34.txt') #sorcefile, destination"
   ]
  },
  {
   "cell_type": "markdown",
   "metadata": {},
   "source": [
    "#### 35. Move a file\n"
   ]
  },
  {
   "cell_type": "code",
   "execution_count": 13,
   "metadata": {},
   "outputs": [],
   "source": [
    "# lets create a new file to place in our current directory and begin to move it \n",
    "text = 'we are going to move this file'\n",
    "\n",
    "with open(\"chapter 35 source file to move.txt\",'w') as file: #call this file a name -- 'w' is write a file\n",
    "    file.write(text)"
   ]
  },
  {
   "cell_type": "code",
   "execution_count": 14,
   "metadata": {},
   "outputs": [
    {
     "name": "stdout",
     "output_type": "stream",
     "text": [
      "chapter 35 source file to move.txt was moved\n"
     ]
    }
   ],
   "source": [
    "import os \n",
    "\n",
    "source = 'chapter 35 source file to move.txt' #source file which we will move\n",
    "destination = 'Folder\\\\chapter 35 source file to move.txt' #move it to another folder\n",
    "\n",
    "try:\n",
    "    if os.path.exists(destination):\n",
    "        print('There is already a file there')\n",
    "    else:\n",
    "        os.replace(source,destination)\n",
    "        print(source+ ' was moved')\n",
    "except FileNotFoundError:\n",
    "    print('source was not found')"
   ]
  },
  {
   "cell_type": "markdown",
   "metadata": {},
   "source": [
    "#### 36. Delete a file"
   ]
  },
  {
   "cell_type": "code",
   "execution_count": 16,
   "metadata": {},
   "outputs": [],
   "source": [
    "# lets create a new file to place in our current directory and begin to move it \n",
    "text = 'we are going to remove this file'\n",
    "\n",
    "with open(\"chapter 36 remove file.txt\",'w') as file: #call this file a name -- 'w' is write a file\n",
    "    file.write(text)"
   ]
  },
  {
   "cell_type": "code",
   "execution_count": 18,
   "metadata": {},
   "outputs": [],
   "source": [
    "import os \n",
    "\n",
    "path = 'chapter 36 remove file.txt'\n",
    "os.remove(path)"
   ]
  },
  {
   "cell_type": "code",
   "execution_count": 19,
   "metadata": {},
   "outputs": [
    {
     "name": "stdout",
     "output_type": "stream",
     "text": [
      "This file is not found\n"
     ]
    }
   ],
   "source": [
    "import os \n",
    "\n",
    "path = 'someunknownfile.py'\n",
    "try: \n",
    "    os.remove(path)\n",
    "except FileNotFoundError:\n",
    "    print('This file is not found')\n"
   ]
  },
  {
   "cell_type": "code",
   "execution_count": 22,
   "metadata": {},
   "outputs": [
    {
     "name": "stdout",
     "output_type": "stream",
     "text": [
      "you do not have permission to delete that\n"
     ]
    }
   ],
   "source": [
    "import os \n",
    "\n",
    "path = 'folder'\n",
    "try: \n",
    "    os.remove(path)\n",
    "except FileNotFoundError:\n",
    "    print('This file is not found')\n",
    "except PermissionError:\n",
    "    print('you do not have permission to delete that')"
   ]
  },
  {
   "cell_type": "markdown",
   "metadata": {},
   "source": [
    "##### To delete a empty folder....."
   ]
  },
  {
   "cell_type": "code",
   "execution_count": 30,
   "metadata": {},
   "outputs": [
    {
     "name": "stdout",
     "output_type": "stream",
     "text": [
      "Empty folder 'my_empty_folder' created successfully at 'C:\\Users\\JSteve40\\OneDrive - JNJ\\Documents\\Statistical Modelling\\python_training\\Python Courses - Youtube\\'.\n"
     ]
    }
   ],
   "source": [
    "#creating an empty folder in a desired folder path\n",
    "\n",
    "import os\n",
    "\n",
    "folder_name = 'my_empty_folder'\n",
    "\n",
    "# Specify the path where you want to create the folder\n",
    "folder_path = 'C:\\\\Users\\\\JSteve40\\\\OneDrive - JNJ\\\\Documents\\\\Statistical Modelling\\\\python_training\\\\Python Courses - Youtube\\\\'  # Replace with the desired path\n",
    "\n",
    "# Combine the path and folder name to create the complete path\n",
    "complete_path = os.path.join(folder_path, folder_name)\n",
    "\n",
    "# Check if the folder already exists\n",
    "if not os.path.exists(complete_path):\n",
    "    # Create the folder if it doesn't exist\n",
    "    os.makedirs(complete_path)\n",
    "    print(f\"Empty folder '{folder_name}' created successfully at '{folder_path}'.\")\n",
    "else:\n",
    "    print(f\"Folder '{folder_name}' already exists at '{folder_path}'.\")\n",
    "\n"
   ]
  },
  {
   "cell_type": "code",
   "execution_count": 29,
   "metadata": {},
   "outputs": [
    {
     "name": "stdout",
     "output_type": "stream",
     "text": [
      "my_empty_folder was deleted\n"
     ]
    }
   ],
   "source": [
    "import os \n",
    "\n",
    "path = 'my_empty_folder'\n",
    "try: \n",
    "    #os.remove(path)\n",
    "    os.rmdir(path) #function does not delete folders that contian files\n",
    "except FileNotFoundError:\n",
    "    print('This file is not found')\n",
    "except PermissionError:\n",
    "    print('you do not have permission to delete that')\n",
    "else:\n",
    "    print(path+' was deleted')"
   ]
  },
  {
   "cell_type": "markdown",
   "metadata": {},
   "source": [
    "##### To delete a folder that contains files ....."
   ]
  },
  {
   "cell_type": "code",
   "execution_count": 32,
   "metadata": {},
   "outputs": [
    {
     "name": "stdout",
     "output_type": "stream",
     "text": [
      "Empty folder 'folder that contains files' created successfully at 'C:\\Users\\JSteve40\\OneDrive - JNJ\\Documents\\Statistical Modelling\\python_training\\Python Courses - Youtube\\'.\n"
     ]
    }
   ],
   "source": [
    "#creating an empty folder in a desired folder path\n",
    "\n",
    "import os\n",
    "\n",
    "folder_name = 'folder that contains files'\n",
    "\n",
    "# Specify the path where you want to create the folder\n",
    "folder_path = 'C:\\\\Users\\\\JSteve40\\\\OneDrive - JNJ\\\\Documents\\\\Statistical Modelling\\\\python_training\\\\Python Courses - Youtube\\\\'  # Replace with the desired path\n",
    "\n",
    "# Combine the path and folder name to create the complete path\n",
    "complete_path = os.path.join(folder_path, folder_name)\n",
    "\n",
    "# Check if the folder already exists\n",
    "if not os.path.exists(complete_path):\n",
    "    # Create the folder if it doesn't exist\n",
    "    os.makedirs(complete_path)\n",
    "    print(f\"Empty folder '{folder_name}' created successfully at '{folder_path}'.\")\n",
    "else:\n",
    "    print(f\"Folder '{folder_name}' already exists at '{folder_path}'.\")\n",
    "\n"
   ]
  },
  {
   "cell_type": "code",
   "execution_count": 33,
   "metadata": {},
   "outputs": [
    {
     "name": "stdout",
     "output_type": "stream",
     "text": [
      "File 'file within folder.txt' has been written to the folder 'C:\\Users\\JSteve40\\OneDrive - JNJ\\Documents\\Statistical Modelling\\python_training\\Python Courses - Youtube\\folder that contains files'.\n"
     ]
    }
   ],
   "source": [
    "#writing a file within a folder\n",
    "\n",
    "folder_path = 'C:\\\\Users\\\\JSteve40\\\\OneDrive - JNJ\\\\Documents\\\\Statistical Modelling\\\\python_training\\\\Python Courses - Youtube\\\\folder that contains files'  # Replace with the desired path\n",
    "file_name = \"file within folder.txt\"\n",
    "file_content = \"Hello, this is the content of the file.\"\n",
    "\n",
    "# Combine the folder path and file name\n",
    "file_path = f\"{folder_path}/{file_name}\"\n",
    "\n",
    "# Open the file and write content to it\n",
    "with open(file_path, 'w') as file:\n",
    "    file.write(file_content)\n",
    "\n",
    "print(f\"File '{file_name}' has been written to the folder '{folder_path}'.\")\n"
   ]
  },
  {
   "cell_type": "code",
   "execution_count": 34,
   "metadata": {},
   "outputs": [
    {
     "name": "stdout",
     "output_type": "stream",
     "text": [
      "folder that contains files was deleted\n"
     ]
    }
   ],
   "source": [
    "import os \n",
    "import shutil\n",
    "\n",
    "path = 'folder that contains files'\n",
    "try: \n",
    "    #os.remove(path)\n",
    "    #os.rmdir(path) #function does not delete folders that contian files\n",
    "    shutil.rmtree(path)\n",
    "except FileNotFoundError:\n",
    "    print('This file is not found')\n",
    "except PermissionError:\n",
    "    print('you do not have permission to delete that')\n",
    "else:\n",
    "    print(path+' was deleted')"
   ]
  },
  {
   "cell_type": "markdown",
   "metadata": {},
   "source": [
    "#### 37. modules \n",
    "\n",
    "* its a file that contains python code. May contain functions classes etc\n",
    "* used with modular programming, which is to seperate a rogram into parts"
   ]
  },
  {
   "cell_type": "code",
   "execution_count": 7,
   "metadata": {},
   "outputs": [
    {
     "name": "stdout",
     "output_type": "stream",
     "text": [
      "Have a nice day!\n",
      "Have a wonderful time\n"
     ]
    }
   ],
   "source": [
    "import Champter37Messages as msg\n",
    "\n",
    "#will call the remote hello function within the module messages that we created\n",
    "msg.hello()\n",
    "\n",
    "msg.bye()"
   ]
  },
  {
   "cell_type": "code",
   "execution_count": 8,
   "metadata": {},
   "outputs": [],
   "source": [
    "from Champter37Messages import hello, bye # be more sepcific to import specific function names"
   ]
  },
  {
   "cell_type": "code",
   "execution_count": 11,
   "metadata": {},
   "outputs": [
    {
     "name": "stdout",
     "output_type": "stream",
     "text": [
      "\n",
      "Please wait a moment while I gather a list of all available modules...\n",
      "\n"
     ]
    },
    {
     "name": "stdout",
     "output_type": "stream",
     "text": [
      "Champter37Messages  bleach              mailcap             stack_data\n",
      "IPython             bs4                 markupsafe          start_pythonwin\n",
      "PIL                 builtins            marshal             stat\n",
      "__future__          bz2                 math                statistics\n",
      "__hello__           cProfile            matplotlib          string\n",
      "__phello__          calendar            matplotlib_inline   stringprep\n",
      "_abc                certifi             mimetypes           struct\n",
      "_aix_support        cffi                mistune             subprocess\n",
      "_argon2_cffi_bindings cgi                 mmap                sunau\n",
      "_ast                cgitb               mmapfile            symtable\n",
      "_asyncio            chapter40OOPCar     mmsystem            sys\n",
      "_bisect             charset_normalizer  modulefinder        sysconfig\n",
      "_blake2             chunk               mpl_toolkits        tabnanny\n",
      "_bz2                cmath               msilib              tarfile\n",
      "_cffi_backend       cmd                 msvcrt              telnetlib\n",
      "_codecs             code                multiprocessing     tempfile\n",
      "_codecs_cn          codecs              nbclient            tenacity\n",
      "_codecs_hk          codeop              nbconvert           terminado\n",
      "_codecs_iso2022     collections         nbformat            test\n",
      "_codecs_jp          colorama            nest_asyncio        textwrap\n",
      "_codecs_kr          colorsys            netbios             this\n",
      "_codecs_tw          comm                netrc               threading\n",
      "_collections        commctrl            nntplib             threadpoolctl\n",
      "_collections_abc    compileall          notebook            time\n",
      "_compat_pickle      concurrent          notebook_shim       timeit\n",
      "_compression        configparser        nt                  timer\n",
      "_contextvars        contextlib          ntpath              tinycss2\n",
      "_csv                contextvars         ntsecuritycon       tkinter\n",
      "_ctypes             contourpy           nturl2path          token\n",
      "_ctypes_test        copy                numbers             tokenize\n",
      "_datetime           copyreg             numpy               tomllib\n",
      "_decimal            crypt               odbc                tornado\n",
      "_elementtree        csv                 opcode              trace\n",
      "_functools          ctypes              openpyxl            traceback\n",
      "_hashlib            curses              operator            tracemalloc\n",
      "_heapq              cycler              optparse            traitlets\n",
      "_imp                dataclasses         os                  tty\n",
      "_io                 datetime            overrides           turtle\n",
      "_json               dateutil            packaging           turtledemo\n",
      "_locale             dbi                 pandas              types\n",
      "_lsprof             dbm                 pandocfilters       typing\n",
      "_lzma               dde                 parso               tzdata\n",
      "_markupbase         debugpy             pathlib             unicodedata\n",
      "_md5                decimal             pdb                 unittest\n",
      "_msi                decorator           perfmon             uri_template\n",
      "_multibytecodec     defusedxml          pickle              urllib\n",
      "_multiprocessing    difflib             pickletools         urllib3\n",
      "_opcode             dis                 pip                 uu\n",
      "_operator           doctest             pipes               uuid\n",
      "_osx_support        email               pkgutil             venv\n",
      "_overlapped         encodings           platform            warnings\n",
      "_pickle             ensurepip           platformdirs        wave\n",
      "_plotly_future_     enum                plistlib            wcwidth\n",
      "_plotly_utils       errno               plotly              weakref\n",
      "_py_abc             et_xmlfile          poplib              webbrowser\n",
      "_pydatetime         executing           posixpath           webcolors\n",
      "_pydecimal          fastjsonschema      pprint              webencodings\n",
      "_pyio               faulthandler        profile             websocket\n",
      "_pylong             filecmp             prometheus_client   widgetsnbextension\n",
      "_queue              fileinput           prompt_toolkit      win2kras\n",
      "_random             fnmatch             pstats              win32api\n",
      "_sha1               fontTools           psutil              win32clipboard\n",
      "_sha2               fqdn                pty                 win32com\n",
      "_sha3               fractions           pure_eval           win32con\n",
      "_signal             ftplib              py_compile          win32console\n",
      "_sitebuiltins       functools           pyclbr              win32cred\n",
      "_socket             gc                  pycparser           win32crypt\n",
      "_sqlite3            genericpath         pydoc               win32cryptcon\n",
      "_sre                getopt              pydoc_data          win32event\n",
      "_ssl                getpass             pyexpat             win32evtlog\n",
      "_stat               gettext             pygments            win32evtlogutil\n",
      "_statistics         glob                pylab               win32file\n",
      "_string             graphlib            pyparsing           win32gui\n",
      "_strptime           gzip                pythoncom           win32gui_struct\n",
      "_struct             h11                 pythonjsonlogger    win32help\n",
      "_symtable           hashlib             pytz                win32inet\n",
      "_testbuffer         heapq               pywin               win32inetcon\n",
      "_testcapi           hmac                pywin32_bootstrap   win32job\n",
      "_testclinic         html                pywin32_testutil    win32lz\n",
      "_testconsole        http                pywintypes          win32net\n",
      "_testimportmultiple httpcore            qtconsole           win32netcon\n",
      "_testinternalcapi   httpx               qtpy                win32pdh\n",
      "_testmultiphase     idlelib             queue               win32pdhquery\n",
      "_testsinglephase    idna                quopri              win32pdhutil\n",
      "_thread             imaplib             random              win32pipe\n",
      "_threading_local    imghdr              rasutil             win32print\n",
      "_tkinter            importlib           re                  win32process\n",
      "_tokenize           inspect             referencing         win32profile\n",
      "_tracemalloc        io                  regcheck            win32ras\n",
      "_typing             ipaddress           regutil             win32rcparser\n",
      "_uuid               ipykernel           reprlib             win32security\n",
      "_warnings           ipykernel_launcher  requests            win32service\n",
      "_weakref            ipywidgets          rfc3339_validator   win32serviceutil\n",
      "_weakrefset         isapi               rfc3986_validator   win32timezone\n",
      "_win32sysloader     isoduration         rlcompleter         win32trace\n",
      "_winapi             itertools           rpds                win32traceutil\n",
      "_winxptheme         jedi                runpy               win32transaction\n",
      "_wmi                jinja2              sched               win32ts\n",
      "_xxinterpchannels   joblib              scipy               win32ui\n",
      "_xxsubinterpreters  json                seaborn             win32uiole\n",
      "_yaml               json5               secrets             win32verstamp\n",
      "_zoneinfo           jsonpointer         select              win32wnet\n",
      "abc                 jsonschema          selectors           winerror\n",
      "adodbapi            jsonschema_specifications send2trash          winioctlcon\n",
      "afxres              jupyter             servicemanager      winnt\n",
      "aifc                jupyter_client      shelve              winperf\n",
      "antigravity         jupyter_console     shlex               winpty\n",
      "anyio               jupyter_core        shutil              winreg\n",
      "argon2              jupyter_events      signal              winsound\n",
      "argparse            jupyter_lsp         site                winxpgui\n",
      "array               jupyter_server      six                 winxptheme\n",
      "arrow               jupyter_server_terminals sklearn             wsgiref\n",
      "ast                 jupyterlab          smtplib             xdrlib\n",
      "asttokens           jupyterlab_plotly   sndhdr              xml\n",
      "async_lru           jupyterlab_pygments sniffio             xmlrpc\n",
      "asyncio             jupyterlab_server   socket              xxsubtype\n",
      "atexit              jupyterlab_widgets  socketserver        yaml\n",
      "attr                keyword             soupsieve           zipapp\n",
      "attrs               kiwisolver          sqlite3             zipfile\n",
      "audioop             lib2to3             sre_compile         zipimport\n",
      "babel               linecache           sre_constants       zlib\n",
      "base64              locale              sre_parse           zmq\n",
      "bdb                 logging             ssl                 zoneinfo\n",
      "binascii            lzma                sspi                \n",
      "bisect              mailbox             sspicon             \n",
      "\n",
      "Enter any module name to get more help.  Or, type \"modules spam\" to search\n",
      "for modules whose name or summary contain the string \"spam\".\n",
      "\n"
     ]
    }
   ],
   "source": [
    "help('modules')"
   ]
  },
  {
   "cell_type": "markdown",
   "metadata": {},
   "source": [
    "#### 38. Rock, Paper Scissors Game"
   ]
  },
  {
   "cell_type": "code",
   "execution_count": 47,
   "metadata": {},
   "outputs": [
    {
     "name": "stdout",
     "output_type": "stream",
     "text": [
      "player:  rock\n",
      "computer:  rock\n",
      "It's a tie\n",
      "bye!\n"
     ]
    }
   ],
   "source": [
    "import random \n",
    "\n",
    "while True:\n",
    "    # set up choices\n",
    "    choices = ['rock', 'paper', 'scissors']\n",
    "    player = None #initially we haven't chosen anything yet\n",
    "\n",
    "    computer = random.choice(choices) #random choice for computer\n",
    "\n",
    "    while player not in choices:\n",
    "        player = input('Choose either: rock, paper or scissors').lower() #lower condition in case player types all caps\n",
    "\n",
    "    # win conditions\n",
    "\n",
    "    if player == computer:\n",
    "        print('player: ', player)\n",
    "        print('computer: ', computer)\n",
    "        print(\"It's a tie\")\n",
    "\n",
    "    elif player == 'rock':\n",
    "        if computer == 'paper':\n",
    "            print('player: ', player)\n",
    "            print('computer: ', computer)\n",
    "            print('You lose!')\n",
    "        if computer == 'scissors':\n",
    "            print('player: ', player)\n",
    "            print('computer: ', computer)\n",
    "            print('You win!')\n",
    "\n",
    "    elif player == 'paper':\n",
    "        if computer == 'scissors':\n",
    "            print('player: ', player)\n",
    "            print('computer: ', computer)\n",
    "            print('You lose!')\n",
    "        if computer == 'rock':\n",
    "            print('player: ', player)\n",
    "            print('computer: ', computer)\n",
    "            print('You win!')\n",
    "            \n",
    "    elif player == 'scissors':\n",
    "        if computer == 'rock':\n",
    "            print('player: ', player)\n",
    "            print('computer: ', computer)\n",
    "            print('You lose!')\n",
    "        if computer == 'paper':\n",
    "            print('player: ', player)\n",
    "            print('computer: ', computer)\n",
    "            print('You win!')\n",
    "            \n",
    "    #want to play again?\n",
    "    play_again = input(\"do you want to play again? (yes/no): \").lower()\n",
    "    \n",
    "    if play_again != 'yes':\n",
    "        break\n",
    "    \n",
    "print('bye!')\n",
    "\n"
   ]
  },
  {
   "cell_type": "markdown",
   "metadata": {},
   "source": [
    "##### 39. Quiz Game"
   ]
  },
  {
   "cell_type": "code",
   "execution_count": 66,
   "metadata": {},
   "outputs": [
    {
     "name": "stdout",
     "output_type": "stream",
     "text": [
      "---------------------\n",
      "Who was the only team to become invincible in the premier league? \n",
      "A. Arsenal\n",
      "B. Man City\n",
      "C. Man United\n",
      "D. Cheslea\n"
     ]
    },
    {
     "name": "stdout",
     "output_type": "stream",
     "text": [
      "Correct!\n",
      "---------------------\n",
      "Where was golf invented? \n",
      "A. England\n",
      "B. Scotland\n",
      "C. USA\n",
      "D. Spain\n",
      "Correct!\n",
      "---------------------\n",
      "What is the capital of France? \n",
      "A. London\n",
      "B. Madrid\n",
      "C. Paris\n",
      "D. Berlin\n",
      "Correct!\n",
      "---------------------\n",
      "How many minutes are there in an hour? \n",
      "A. 60\n",
      "B. 70\n",
      "C. 80\n",
      "D. 90\n",
      "Wrong!\n",
      "--------------------\n",
      "Results\n",
      "--------------------\n",
      "AnswersAnswersA B C A \n",
      "GuessesA B C D \n",
      "Your score is: 75%\n"
     ]
    }
   ],
   "source": [
    "def new_game():\n",
    "    guesses = []\n",
    "    correct_guesses = 0\n",
    "    current_question_number = 1\n",
    "    \n",
    "    for key in questions:\n",
    "        print('---------------------') # break up each question with this\n",
    "        print(key)\n",
    "        for i in options[current_question_number - 1]: # i.e. index starts at 0 but current question number is 1 so it must be 1-1=0\n",
    "            print(i)\n",
    "        \n",
    "        #choose something\n",
    "        guess = input('Enter (A, B, C, D): ') # user guesses\n",
    "        guess = guess.upper() # in case someonne puts in lower case a/b/c/d\n",
    "        guesses.append(guess) #we have an empty list names guessse so we can update our current guess to our list of guesses\n",
    "    \n",
    "        correct_guesses += check_answer(questions.get(key),guess) #incrementing our correct guesses by 1 for each point that we score\n",
    "        current_question_number +=1 # move to next question\n",
    "        \n",
    "    display_score(correct_guesses, guesses)\n",
    "#---------------------------------\n",
    "def check_answer(answer, guess):\n",
    "    if answer == guess:\n",
    "        print('Correct!')\n",
    "        return 1 \n",
    "    else:\n",
    "        print('Wrong!')\n",
    "        return 0\n",
    "#---------------------------------\n",
    "\n",
    "def display_score(correct_guesses, guesses):\n",
    "    print('--------------------')\n",
    "    print('Results')\n",
    "    print('--------------------')\n",
    "    print('Answers', end='')\n",
    "    \n",
    "    print('Answers', end='')\n",
    "    for i in questions:\n",
    "        print(questions.get(i), end = ' ')\n",
    "    print()\n",
    "    \n",
    "    print('Guesses', end='')\n",
    "    for i in guesses:\n",
    "        print(i, end = ' ')\n",
    "    print()\n",
    "    \n",
    "    score = int((correct_guesses/len(questions))*100)\n",
    "    print('Your score is: ' +str(score)+'%')\n",
    "\n",
    "\n",
    "#---------------------------------\n",
    "\n",
    "# def play_again():\n",
    "#     play_again = input(\"do you want to play again? (yes/no): \").lower()\n",
    "    \n",
    "#     if play_again != 'yes':\n",
    "#         break\n",
    "    \n",
    "# print('bye!')\n",
    "#---------------------------------\n",
    "\n",
    "# Dictionary\n",
    "questions ={\n",
    "    \"Who was the only team to become invincible in the premier league? \": 'A',\n",
    "    \"Where was golf invented? \": 'B',\n",
    "    \"What is the capital of France? \": 'C', \n",
    "    \"How many minutes are there in an hour? \": 'A'\n",
    "}\n",
    "\n",
    "# 2D LIST -- A LIST OF TUPLES CAN ALSO WORK\n",
    "options = [\n",
    "    ['A. Arsenal', 'B. Man City', 'C. Man United', 'D. Cheslea'],\n",
    "    ['A. England', 'B. Scotland', 'C. USA', 'D. Spain'],\n",
    "    ['A. London', 'B. Madrid', 'C. Paris', 'D. Berlin'],\n",
    "    ['A. 60', 'B. 70', 'C. 80', 'D. 90']\n",
    "    ]\n",
    "\n",
    "new_game()\n",
    "\n"
   ]
  },
  {
   "cell_type": "markdown",
   "metadata": {},
   "source": [
    "#### 40. Object Orientated Programming\n",
    "\n",
    "An object is an instance of a class - we can create representations of objects\n",
    "We can mimic real world life in terms of what functions things have, how they interact etc."
   ]
  },
  {
   "cell_type": "code",
   "execution_count": 4,
   "metadata": {},
   "outputs": [
    {
     "name": "stdout",
     "output_type": "stream",
     "text": [
      "Ferrari\n",
      "La Ferrari\n",
      "2021\n",
      "red\n",
      "This Ferrari La Ferrari is driving\n",
      "This Ferrari La Ferrari has stopped\n"
     ]
    }
   ],
   "source": [
    "from chapter_40_OOP_Car import Car\n",
    "\n",
    "car_1 = Car(\"Ferrari\", \"La Ferrari\", 2021, \"red\")\n",
    "car_2 = Car(\"Pagani\", \"Zonda F\", 2017, \"silver\")\n",
    "\n",
    "# you can set car_2 default value for wheels here\n",
    "car_2.wheels = 2\n",
    "\n",
    "# car attributes\n",
    "print(car_1.make)\n",
    "print(car_1.model)\n",
    "print(car_1.year)\n",
    "print(car_1.color)\n",
    "\n",
    "#use the 2 methods\n",
    "car_1.drive()\n",
    "car_1.stop()"
   ]
  },
  {
   "cell_type": "markdown",
   "metadata": {},
   "source": [
    "#### 41. Class Variables\n",
    "\n",
    "class variable is defined inside a class but outside the constructor - you can create default values for obj you create"
   ]
  },
  {
   "cell_type": "code",
   "execution_count": 10,
   "metadata": {},
   "outputs": [
    {
     "name": "stdout",
     "output_type": "stream",
     "text": [
      "4\n",
      "A Ferrari has 4 wheels\n",
      "A Pagani has 2 wheels\n"
     ]
    }
   ],
   "source": [
    "print(Car.wheels)\n",
    "print(\"A \" + car_1.make + \" has \" +str(car_1.wheels)+ \" wheels\")\n",
    "print(\"A \" + car_2.make + \" has \" +str(car_2.wheels)+ \" wheels\")"
   ]
  },
  {
   "cell_type": "markdown",
   "metadata": {},
   "source": [
    "#### 42. Inheritence\n",
    "\n",
    "Calsses can inherit something, usually attributes and methods form another class, which results in parent child relationships between classes"
   ]
  },
  {
   "cell_type": "code",
   "execution_count": 24,
   "metadata": {},
   "outputs": [
    {
     "name": "stdout",
     "output_type": "stream",
     "text": [
      "True\n",
      "this animal is eating\n",
      "this animal is sleeping\n",
      "This rabbit is running\n",
      "This rabbit is swimming\n",
      "This rabbit is flying\n"
     ]
    }
   ],
   "source": [
    "class Animal:\n",
    "    \n",
    "    #class variable\n",
    "    alive = True \n",
    "    \n",
    "    #class methods\n",
    "    def eat(self):\n",
    "        print(\"this animal is eating\")\n",
    "    \n",
    "    def sleep(self):\n",
    "        print(\"this animal is sleeping\")\n",
    "        \n",
    "# rabbit is the child class and animal is the parent class - so rabbit is going to inherit everyhting that animal has\n",
    "# animal is the parent class and it has 3 children rabbit, fish and hawk - family tree\n",
    "\n",
    "# inherits form the animal class\n",
    "class Rabbit(Animal):\n",
    "    # give them their own unique methods as well\n",
    "    def run(self):\n",
    "        print(\"This rabbit is running\")\n",
    "class Fish(Animal):\n",
    "    def swim(self):\n",
    "        print(\"This rabbit is swimming\")     \n",
    "class Hawk(Animal):\n",
    "    def fly(self):\n",
    "        print(\"This rabbit is flying\") \n",
    "\n",
    "# create obj from these classes\n",
    "rabbit = Rabbit()\n",
    "fish = Fish()\n",
    "hawk = Hawk()\n",
    "\n",
    "print(rabbit.alive) # got class variable called alive\n",
    "\n",
    "#methods\n",
    "fish.eat()\n",
    "hawk.sleep()\n",
    "\n",
    "#test unique animal methods\n",
    "rabbit.run()\n",
    "fish.swim()\n",
    "hawk.fly()\n"
   ]
  },
  {
   "cell_type": "markdown",
   "metadata": {},
   "source": [
    "#### 43. Multilevel Inheritence \n",
    "\n",
    "Where a child class inherits another child class"
   ]
  },
  {
   "cell_type": "code",
   "execution_count": 23,
   "metadata": {},
   "outputs": [
    {
     "name": "stdout",
     "output_type": "stream",
     "text": [
      "True\n",
      "This animal is eating\n"
     ]
    }
   ],
   "source": [
    "# 3 level heirachal tree\n",
    "\n",
    "#parent class\n",
    "class Organism:\n",
    "    # receives 1 class variable called alive\n",
    "    alive = True\n",
    "\n",
    "# inherits from parent class organism\n",
    "class Animal(Organism):\n",
    "    \n",
    "    def eat(self):\n",
    "        print(\"This animal is eating\")\n",
    "        \n",
    "# inherits from the animal class\n",
    "class Dog(Animal):\n",
    "    def bark(self):\n",
    "        print(\"This dog is barking\")\n",
    "        \n",
    "#dog obj\n",
    "dog = Dog()\n",
    "print(dog.alive)\n",
    "dog.eat()"
   ]
  },
  {
   "cell_type": "markdown",
   "metadata": {},
   "source": [
    "#### 44. Multiple Inheritence\n",
    "\n",
    "Child class is derived from more than 1 parent class"
   ]
  },
  {
   "cell_type": "code",
   "execution_count": 22,
   "metadata": {},
   "outputs": [
    {
     "name": "stdout",
     "output_type": "stream",
     "text": [
      "This animal is fleeing\n",
      "This animal is hunting\n",
      "This animal is fleeing\n",
      "This animal is hunting\n"
     ]
    }
   ],
   "source": [
    "#fish can eat smaller fish but can also be eaten by larger fish\n",
    "\n",
    "# if prey inherits from prey calss they have access to flee method\n",
    "class Prey:\n",
    "    def flee(self):\n",
    "        print(\"This animal is fleeing\")\n",
    "\n",
    "# if prey inherits from predator calss they have access to hunt method  \n",
    "class Predator:\n",
    "    def hunt(self):\n",
    "        print(\"This animal is hunting\")\n",
    "        \n",
    "#some animals can flee and hunt\n",
    "\n",
    "class Rabbit(Prey):\n",
    "    pass\n",
    "class Hawk(Predator):\n",
    "    pass\n",
    "class Fish(Prey, Predator):\n",
    "    pass\n",
    "\n",
    "# lets create an obj form each of these classes\n",
    "rabbit = Rabbit()\n",
    "hawk = Hawk()\n",
    "fish = Fish()\n",
    "\n",
    "# decide what methods these animals should have access to\n",
    "rabbit.flee()\n",
    "hawk.hunt()\n",
    "fish.flee()\n",
    "fish.hunt()"
   ]
  },
  {
   "cell_type": "markdown",
   "metadata": {},
   "source": [
    "#### 45. Method Overriding\n",
    "\n",
    "OOP to all sub class (child) to provide a specific implementation more closely associated with that child that is already provided by one of its parents i.e. in this case we can overide the eat method in class Animal"
   ]
  },
  {
   "cell_type": "code",
   "execution_count": 26,
   "metadata": {},
   "outputs": [
    {
     "name": "stdout",
     "output_type": "stream",
     "text": [
      "This rabbit is eating a carrot\n"
     ]
    }
   ],
   "source": [
    "#parent\n",
    "class Animal:\n",
    "    \n",
    "    def eat(self):\n",
    "        print(\"This animal is eating\")\n",
    "        \n",
    "# child inherits from animal class access to eat method\n",
    "class Rabbit(Animal):\n",
    "    #here we have defined a more specific implenentation of the et method for rabbit\n",
    "    def eat(self):\n",
    "        print(\"This rabbit is eating a carrot\") # <<<<<<<<<<<<<<<<<<<\n",
    "\n",
    "# create rabbit obj and use its eat method\n",
    "rabbit = Rabbit()\n",
    "rabbit.eat()\n",
    "\n"
   ]
  },
  {
   "cell_type": "markdown",
   "metadata": {},
   "source": [
    "#### 46. Method Chaining \n",
    "\n",
    "* used to call multiple methods sequentially\n",
    "* each call performs an action on the same object and returns self"
   ]
  },
  {
   "cell_type": "code",
   "execution_count": 27,
   "metadata": {},
   "outputs": [
    {
     "name": "stdout",
     "output_type": "stream",
     "text": [
      "You start the engine\n",
      "You drive the car\n"
     ]
    },
    {
     "data": {
      "text/plain": [
       "<__main__.Car at 0x21f44e2ab10>"
      ]
     },
     "execution_count": 27,
     "metadata": {},
     "output_type": "execute_result"
    }
   ],
   "source": [
    "class Car:\n",
    "    \n",
    "    #car has 4 methods\n",
    "    def turn_on(self):\n",
    "        print(\"You start the engine\")\n",
    "        return self # < we need to add return self for it to work under each method print statement\n",
    "    \n",
    "    def drive(self):\n",
    "        print(\"You drive the car\")\n",
    "        return self\n",
    "    \n",
    "    def brake(self):\n",
    "        print(\"You step on the brakes\")\n",
    "        return self \n",
    "    \n",
    "    def turn_off(self):\n",
    "        print(\"You turn off the engine\")\n",
    "        return self\n",
    "\n",
    "\n",
    "# create car obj\n",
    "car = Car()\n",
    "# method chaining \n",
    "car.turn_on().drive()"
   ]
  },
  {
   "cell_type": "code",
   "execution_count": 28,
   "metadata": {},
   "outputs": [
    {
     "name": "stdout",
     "output_type": "stream",
     "text": [
      "You start the engine\n",
      "You drive the car\n",
      "You step on the brakes\n",
      "You turn off the engine\n"
     ]
    },
    {
     "data": {
      "text/plain": [
       "<__main__.Car at 0x21f44e2ab10>"
      ]
     },
     "execution_count": 28,
     "metadata": {},
     "output_type": "execute_result"
    }
   ],
   "source": [
    "# call all 4 methods in order but in a more readible format\n",
    "car.turn_on()\\\n",
    "    .drive()\\\n",
    "    .brake()\\\n",
    "    .turn_off()"
   ]
  },
  {
   "cell_type": "markdown",
   "metadata": {},
   "source": [
    "#### 47. Super Function\n",
    "* Function used to give access to the methods of a parent class.\n",
    "* Returns a temporary object of a parent class when used"
   ]
  },
  {
   "cell_type": "code",
   "execution_count": null,
   "metadata": {},
   "outputs": [],
   "source": [
    "#parent class\n",
    "class Rectangle():\n",
    "    pass \n",
    "\n",
    "#child class inherits from Rectangle\n",
    "class Square(Rectangle):\n",
    "    \n",
    "    # init method = constructor \n",
    "    def __init__(self, length, width): #pass in the different objects self, length, width\n",
    "        # inheritence variables\n",
    "        self.length = length \n",
    "        self.width = width \n",
    "        \n",
    "#child class inherits from Rectangle\n",
    "class Cube(Rectangle):\n",
    "    def __init__(self, length, width, height): #init methods\n",
    "        self.length = length \n",
    "        self.width = width \n",
    "        self.height = height\n",
    "\n",
    "#create square and cube object\n",
    "square = Square(3,3)\n",
    "cube = Cube(3,3,3)"
   ]
  },
  {
   "cell_type": "code",
   "execution_count": 29,
   "metadata": {},
   "outputs": [
    {
     "name": "stdout",
     "output_type": "stream",
     "text": [
      "9\n",
      "27\n"
     ]
    }
   ],
   "source": [
    "# any similarites between the square and rectangle class we can place within the rectangle class\n",
    "\n",
    "#parent class\n",
    "class Rectangle():\n",
    "    def __init__(self, length, width):\n",
    "        # inheritence variables\n",
    "        self.length = length \n",
    "        self.width = width  \n",
    "\n",
    "#child class inherits from Rectangle\n",
    "class Square(Rectangle):\n",
    "    # ask Square class to use Rectangle init method\n",
    "    def __init__(self, length, width):\n",
    "        super().__init__(length,width)\n",
    "        \n",
    "    #define area method \n",
    "    def area(self):\n",
    "        return self.length * self.width\n",
    "        \n",
    "#child class inherits from Rectangle\n",
    "class Cube(Rectangle):\n",
    "    #ask Cub class to use Rectangle init method\n",
    "    def __init__(self, length, width, height): \n",
    "        # ask Cube class to use Rectangle init method\n",
    "        super().__init__(length,width)\n",
    "        # still need to keep this line in because this method is not used by Rectangle\n",
    "        self.height = height\n",
    "        \n",
    "    #define volume method \n",
    "    def volume(self):\n",
    "        return self.length * self.width * self.height\n",
    "\n",
    "#create square and cube object\n",
    "square = Square(3,3)\n",
    "cube = Cube(3,3,3)\n",
    "\n",
    "print(square.area())\n",
    "print(cube.volume())"
   ]
  },
  {
   "cell_type": "markdown",
   "metadata": {},
   "source": [
    "#### 48. Abstract Classes\n",
    "\n",
    "Purpose = prevents a user from creating an object of that class and compels a user to overide abstract methods in a chid class\n",
    "\n",
    "* Abstract class = A class which contains 1 or more abstract methods\n",
    "* Abstract method = a method which has a declaration but does not have an implementation\n",
    "\n",
    "Think of it as a ghost class - its not real\n",
    "\n",
    "Imagine if we are coding the new need for speed game - we have to prevent the user from creating something from the Vehicle class because its too generic as opposed to Car class or the Motocycle class."
   ]
  },
  {
   "cell_type": "code",
   "execution_count": 30,
   "metadata": {},
   "outputs": [
    {
     "name": "stdout",
     "output_type": "stream",
     "text": [
      "You rise the car\n",
      "You rise the motocycle\n"
     ]
    }
   ],
   "source": [
    "# parent class\n",
    "class Vehicle:\n",
    "    def go(self): #go method\n",
    "        pass \n",
    "\n",
    "#child class which inherits form parent\n",
    "class Car(Vehicle):\n",
    "    def go(self): #overriding this go method with our own implmenetation of this go method for Car\n",
    "        print(\"You rise the car\") \n",
    "    \n",
    "class Motocycle(Vehicle):\n",
    "    def go(self): #overriding this go method with our own implmenetation of this go method for Motocycle.\n",
    "        print(\"You rise the motocycle\") \n",
    "    \n",
    "\n",
    "#create obj\n",
    "vehicle = Vehicle()\n",
    "car = Car()\n",
    "motocycle = Motocycle()\n",
    "\n",
    "# use methods\n",
    "vehicle.go() # won't print anything how it is as we used pass (placeholder) for go method in Vehicle class\n",
    "car.go()\n",
    "motocycle.go()\n"
   ]
  },
  {
   "cell_type": "code",
   "execution_count": 32,
   "metadata": {},
   "outputs": [
    {
     "ename": "TypeError",
     "evalue": "Can't instantiate abstract class Vehicle without an implementation for abstract method 'go'",
     "output_type": "error",
     "traceback": [
      "\u001b[1;31m---------------------------------------------------------------------------\u001b[0m",
      "\u001b[1;31mTypeError\u001b[0m                                 Traceback (most recent call last)",
      "Cell \u001b[1;32mIn[32], line 21\u001b[0m\n\u001b[0;32m     17\u001b[0m         \u001b[38;5;28mprint\u001b[39m(\u001b[38;5;124m\"\u001b[39m\u001b[38;5;124mYou rise the motocycle\u001b[39m\u001b[38;5;124m\"\u001b[39m) \n\u001b[0;32m     20\u001b[0m \u001b[38;5;66;03m#create obj\u001b[39;00m\n\u001b[1;32m---> 21\u001b[0m vehicle \u001b[38;5;241m=\u001b[39m \u001b[43mVehicle\u001b[49m\u001b[43m(\u001b[49m\u001b[43m)\u001b[49m\n\u001b[0;32m     22\u001b[0m car \u001b[38;5;241m=\u001b[39m Car()\n\u001b[0;32m     23\u001b[0m motocycle \u001b[38;5;241m=\u001b[39m Motocycle()\n",
      "\u001b[1;31mTypeError\u001b[0m: Can't instantiate abstract class Vehicle without an implementation for abstract method 'go'"
     ]
    }
   ],
   "source": [
    "# In this case we need to turn Vehicle into an abstract class which means we cannot create an object for it\n",
    "\n",
    "#import abstract class module\n",
    "from abc import ABC, abstractmethod\n",
    "\n",
    "# create abstract vehicle class\n",
    "class Vehicle(ABC):\n",
    "    @abstractmethod\n",
    "    def go(self): \n",
    "        pass \n",
    "\n",
    "class Car(Vehicle):\n",
    "    def go(self): \n",
    "        print(\"You rise the car\") \n",
    "    \n",
    "class Motocycle(Vehicle):\n",
    "    def go(self): \n",
    "        print(\"You rise the motocycle\") \n",
    "    \n",
    "\n",
    "#create obj\n",
    "vehicle = Vehicle() # will run into an error\n",
    "car = Car()\n",
    "motocycle = Motocycle()\n",
    "\n",
    "# use methods\n",
    "vehicle.go() \n",
    "car.go()\n",
    "motocycle.go()"
   ]
  },
  {
   "cell_type": "code",
   "execution_count": 35,
   "metadata": {},
   "outputs": [
    {
     "ename": "TypeError",
     "evalue": "Can't instantiate abstract class Car without an implementation for abstract method 'stop'",
     "output_type": "error",
     "traceback": [
      "\u001b[1;31m---------------------------------------------------------------------------\u001b[0m",
      "\u001b[1;31mTypeError\u001b[0m                                 Traceback (most recent call last)",
      "Cell \u001b[1;32mIn[35], line 25\u001b[0m\n\u001b[0;32m     20\u001b[0m         \u001b[38;5;28mprint\u001b[39m(\u001b[38;5;124m\"\u001b[39m\u001b[38;5;124mYou rise the motocycle\u001b[39m\u001b[38;5;124m\"\u001b[39m) \n\u001b[0;32m     23\u001b[0m \u001b[38;5;66;03m#create obj\u001b[39;00m\n\u001b[0;32m     24\u001b[0m \u001b[38;5;66;03m#vehicle = Vehicle() # will run into an error\u001b[39;00m\n\u001b[1;32m---> 25\u001b[0m car \u001b[38;5;241m=\u001b[39m \u001b[43mCar\u001b[49m\u001b[43m(\u001b[49m\u001b[43m)\u001b[49m\n\u001b[0;32m     26\u001b[0m motocycle \u001b[38;5;241m=\u001b[39m Motocycle()\n\u001b[0;32m     28\u001b[0m \u001b[38;5;66;03m# use methods\u001b[39;00m\n",
      "\u001b[1;31mTypeError\u001b[0m: Can't instantiate abstract class Car without an implementation for abstract method 'stop'"
     ]
    }
   ],
   "source": [
    "#import abstract class module\n",
    "from abc import ABC, abstractmethod\n",
    "\n",
    "# create abstract vehicle class\n",
    "class Vehicle(ABC):\n",
    "    @abstractmethod\n",
    "    def go(self): \n",
    "        pass \n",
    "    \n",
    "    @abstractmethod\n",
    "    def stop(self):\n",
    "        pass\n",
    "\n",
    "class Car(Vehicle):\n",
    "    def go(self): \n",
    "        print(\"You rise the car\") \n",
    "    \n",
    "class Motocycle(Vehicle):\n",
    "    def go(self): \n",
    "        print(\"You rise the motocycle\") \n",
    "    \n",
    "\n",
    "#create obj\n",
    "#vehicle = Vehicle() # will run into an error\n",
    "car = Car()\n",
    "motocycle = Motocycle()\n",
    "\n",
    "# use methods\n",
    "vehicle.go() \n",
    "car.go()\n",
    "motocycle.go()"
   ]
  },
  {
   "cell_type": "code",
   "execution_count": 36,
   "metadata": {},
   "outputs": [
    {
     "name": "stdout",
     "output_type": "stream",
     "text": [
      "You rise the car\n",
      "You rise the motocycle\n",
      "This car is stopped.\n",
      "This motocycle is stopped.\n"
     ]
    }
   ],
   "source": [
    "#import abstract class module\n",
    "from abc import ABC, abstractmethod\n",
    "\n",
    "# create abstract vehicle class\n",
    "class Vehicle(ABC):\n",
    "    @abstractmethod\n",
    "    def go(self): \n",
    "        pass \n",
    "    \n",
    "    @abstractmethod\n",
    "    def stop(self):\n",
    "        pass\n",
    "\n",
    "class Car(Vehicle):\n",
    "    def go(self): \n",
    "        print(\"You rise the car\") \n",
    "    def stop(self):\n",
    "        print(\"This car is stopped.\")\n",
    "    \n",
    "class Motocycle(Vehicle):\n",
    "    def go(self): \n",
    "        print(\"You rise the motocycle\") \n",
    "    def stop(self):\n",
    "        print(\"This motocycle is stopped.\")    \n",
    "    \n",
    "\n",
    "#create obj\n",
    "#vehicle = Vehicle() # will run into an error\n",
    "car = Car()\n",
    "motocycle = Motocycle()\n",
    "\n",
    "# use methods\n",
    "vehicle.go() \n",
    "car.go()\n",
    "motocycle.go()\n",
    "car.stop()\n",
    "motocycle.stop()"
   ]
  },
  {
   "cell_type": "markdown",
   "metadata": {},
   "source": [
    "#### 49. Objects as Arguements\n",
    "\n",
    "We can pass object arguements to a function"
   ]
  },
  {
   "cell_type": "code",
   "execution_count": 40,
   "metadata": {},
   "outputs": [
    {
     "name": "stdout",
     "output_type": "stream",
     "text": [
      "red\n",
      "yellow\n",
      "green\n"
     ]
    }
   ],
   "source": [
    "class Car:\n",
    "    \n",
    "    color = None\n",
    "\n",
    "#seperate funciton outside the car class otherwise it will be a method of the car class\n",
    "def change_color(car, color): # pass in objects as arguements\n",
    "    car.color = color\n",
    "\n",
    "#create car obj\n",
    "car_1 = Car()\n",
    "car_2 = Car()\n",
    "car_3 = Car()\n",
    "\n",
    "# for the function pass in arguements\n",
    "change_color(car_1, color='red')\n",
    "change_color(car_2, color='yellow')\n",
    "change_color(car_3, color='green')\n",
    "\n",
    "# do something\n",
    "print(car_1.color)\n",
    "print(car_2.color)\n",
    "print(car_3.color)"
   ]
  },
  {
   "cell_type": "code",
   "execution_count": 41,
   "metadata": {},
   "outputs": [
    {
     "name": "stdout",
     "output_type": "stream",
     "text": [
      "red\n",
      "yellow\n",
      "green\n",
      "blue\n"
     ]
    }
   ],
   "source": [
    "class Car:\n",
    "    \n",
    "    color = None\n",
    "\n",
    "# add another type of vehicle.    \n",
    "class Motocycle:\n",
    "    \n",
    "    color = None\n",
    "\n",
    "#seperate funciton outside the car class otherwise it will be a method of the car class\n",
    "def change_color(car, color): # pass in objects as arguements \n",
    "    car.color = color\n",
    "\n",
    "#create car obj\n",
    "car_1 = Car()\n",
    "car_2 = Car()\n",
    "car_3 = Car()\n",
    "\n",
    "bike_1 = Motocycle()\n",
    "\n",
    "# for the function pass in arguements\n",
    "change_color(car_1, color='red')\n",
    "change_color(car_2, color='yellow')\n",
    "change_color(car_3, color='green')\n",
    "change_color(bike_1, color='blue')\n",
    "\n",
    "\n",
    "print(car_1.color)\n",
    "print(car_2.color)\n",
    "print(car_3.color)\n",
    "print(bike_1.color)"
   ]
  },
  {
   "cell_type": "markdown",
   "metadata": {},
   "source": [
    "#### 50. Duck Typing \n",
    "\n",
    "* Concept where the class of an object is less important than methods/attributes than that class might have \n",
    "* The class type is not checked if min methods or attributes are present\n",
    "* if it walks like a duck, quacks like a duck, then it must be a duck"
   ]
  },
  {
   "cell_type": "code",
   "execution_count": 65,
   "metadata": {},
   "outputs": [
    {
     "name": "stdout",
     "output_type": "stream",
     "text": [
      "This is a chicken\n",
      "This is a chicken clucking\n",
      "you caught the critter\n",
      "This is a duck\n",
      "This is a duck quacking\n",
      "you caught the critter\n"
     ]
    }
   ],
   "source": [
    "# set up 2 classes with 2 methods each walk and talk but print something different between classes\n",
    "\n",
    "class Duck:\n",
    "    def walk(self):\n",
    "        print('This is a duck')\n",
    "    def talk(self):\n",
    "        print('This is a duck quacking')\n",
    "        \n",
    "class Chicken:\n",
    "    def walk(self):\n",
    "        print('This is a chicken')\n",
    "    def talk(self):\n",
    "        print('This is a chicken clucking')\n",
    "\n",
    "# add another class called person that tries to catch the duck\n",
    "class Person():\n",
    "    def catch(self, duck):\n",
    "        duck.walk() # define its methods\n",
    "        duck.talk()\n",
    "        print('you caught the critter')\n",
    "        \n",
    "# set up objects\n",
    "duck = Duck()\n",
    "chicken = Chicken()\n",
    "person = Person()\n",
    "\n",
    "# retrieve methods but pass in chicken as an arguement as chicken can walk and talk even tho our parameter is set up to take a duck object\n",
    "person.catch(chicken)\n",
    "\n",
    "# as we would expect\n",
    "person.catch(duck)"
   ]
  },
  {
   "cell_type": "markdown",
   "metadata": {},
   "source": [
    "#### 51. Walrus Operator\n",
    "Assignment expression aka walrus operator which assigns values to variables as part of a larger expression"
   ]
  },
  {
   "cell_type": "code",
   "execution_count": 66,
   "metadata": {},
   "outputs": [
    {
     "name": "stdout",
     "output_type": "stream",
     "text": [
      "True\n"
     ]
    }
   ],
   "source": [
    "happy = True \n",
    "\n",
    "print(happy)"
   ]
  },
  {
   "cell_type": "code",
   "execution_count": 67,
   "metadata": {},
   "outputs": [
    {
     "name": "stdout",
     "output_type": "stream",
     "text": [
      "True\n"
     ]
    }
   ],
   "source": [
    "# combine both statements together i.e. happy = True\n",
    "# normally we can't do this but we can using walrus operator\n",
    "\n",
    "print(happy := True)"
   ]
  },
  {
   "cell_type": "code",
   "execution_count": 68,
   "metadata": {},
   "outputs": [],
   "source": [
    "# assume we are writing programme which we tell what foods we want to eat\n",
    "foods = list()\n",
    "while True:\n",
    "    food = input(\"What food would you like?\")\n",
    "    if food == 'quit':\n",
    "        break\n",
    "    foods.append(food)\n",
    "\n"
   ]
  },
  {
   "cell_type": "code",
   "execution_count": 71,
   "metadata": {},
   "outputs": [
    {
     "name": "stdout",
     "output_type": "stream",
     "text": [
      "True\n",
      "True\n"
     ]
    }
   ],
   "source": [
    "# using walrus operator is quicker\n",
    "foods = list()\n",
    "while food := input(\"What food would you like?\") != 'quit':\n",
    "    foods.append(food)"
   ]
  },
  {
   "cell_type": "markdown",
   "metadata": {},
   "source": [
    "#### 52. Functions to variables\n",
    "\n",
    "assign a function to a variable"
   ]
  },
  {
   "cell_type": "code",
   "execution_count": 74,
   "metadata": {},
   "outputs": [
    {
     "name": "stdout",
     "output_type": "stream",
     "text": [
      "Hello\n"
     ]
    }
   ],
   "source": [
    "# function name hello\n",
    "def hello():\n",
    "    print('Hello')\n",
    "    \n",
    "hello() # call the function by using the set of parenthesis () after the function name"
   ]
  },
  {
   "cell_type": "code",
   "execution_count": 76,
   "metadata": {},
   "outputs": [
    {
     "name": "stdout",
     "output_type": "stream",
     "text": [
      "<function hello at 0x0000021F45255760>\n"
     ]
    }
   ],
   "source": [
    "def hello():\n",
    "    print('Hello')\n",
    "\n",
    "# python treats everything as objects including funcions - will print memory address of the function stored on your computer\n",
    "print(hello) "
   ]
  },
  {
   "cell_type": "code",
   "execution_count": 77,
   "metadata": {},
   "outputs": [
    {
     "name": "stdout",
     "output_type": "stream",
     "text": [
      "<function hello at 0x0000021F45255760>\n",
      "<function hello at 0x0000021F45255760>\n"
     ]
    }
   ],
   "source": [
    "# if we assign hi to hello and print hi and hello then we can see both share same address\n",
    "hi = hello\n",
    "print(hi)\n",
    "print(hello)"
   ]
  },
  {
   "cell_type": "markdown",
   "metadata": {},
   "source": [
    "so its as if this hello function has 2 names i.e. use hello or hi because we are assigning the memory address to this hi variable\n",
    "\n",
    "You can interpret this as hi being the alias for hello"
   ]
  },
  {
   "cell_type": "code",
   "execution_count": 78,
   "metadata": {},
   "outputs": [
    {
     "name": "stdout",
     "output_type": "stream",
     "text": [
      "Hello\n"
     ]
    }
   ],
   "source": [
    "hi() # calling the hi variable will call the hello function\n",
    "\n"
   ]
  },
  {
   "cell_type": "markdown",
   "metadata": {},
   "source": [
    "likewise we can assign print to a variable i.e. in this case say because both print and say have the same memory address"
   ]
  },
  {
   "cell_type": "code",
   "execution_count": 81,
   "metadata": {},
   "outputs": [
    {
     "name": "stdout",
     "output_type": "stream",
     "text": [
      "<built-in function print>\n",
      "<built-in function print>\n"
     ]
    }
   ],
   "source": [
    "print(print)\n",
    "print(say)"
   ]
  },
  {
   "cell_type": "code",
   "execution_count": 80,
   "metadata": {},
   "outputs": [
    {
     "name": "stdout",
     "output_type": "stream",
     "text": [
      "jordan\n",
      "jordan\n"
     ]
    }
   ],
   "source": [
    "say = print \n",
    "print('jordan')\n",
    "say('jordan')"
   ]
  },
  {
   "cell_type": "markdown",
   "metadata": {},
   "source": [
    "#### 53. Higher Order Functions\n",
    "\n",
    "A funciton that either:\n",
    "* 1. accepts a function as an arguement or \n",
    "* 2. returns a function \n",
    "\n",
    "note: in python , functions are also treated as objects"
   ]
  },
  {
   "cell_type": "markdown",
   "metadata": {},
   "source": [
    " * calling higher order function named hello and passing in loud as an arguement\n",
    "\n",
    " * we are naming loud as func while we're within this hello function\n",
    "\n",
    " * text = loud and we are sending in a str of text which says hello and we are returning that text in lower case assigning it to a variable called text and printing that text."
   ]
  },
  {
   "cell_type": "code",
   "execution_count": 84,
   "metadata": {},
   "outputs": [
    {
     "name": "stdout",
     "output_type": "stream",
     "text": [
      "HELLO\n"
     ]
    }
   ],
   "source": [
    "# example 1\n",
    "\n",
    "# function that returns a string in upper case\n",
    "def loud(text):\n",
    "    return text.upper()\n",
    "\n",
    "# function that returns a string in lower case\n",
    "def quiet(text):\n",
    "    return text.lower()\n",
    "\n",
    "# higher order function named hello which we can accept either loud or quiet as arguements\n",
    "def hello(func):\n",
    "    text = func('hello')\n",
    "    print(text)\n",
    "\n",
    "hello(loud)"
   ]
  },
  {
   "cell_type": "markdown",
   "metadata": {},
   "source": [
    "* our programme begins with divisor and we are passing in 2\n",
    "* x will be 2 and it will stay this way until we finish this programme or reassign x\n",
    "* we are skipping def dividened(y): function because we did not call it yet\n",
    "* we are returning dividend and assigning it to a variable\n",
    "* now we are calling dividend and passing in 10 i.e. print(divide(10))\n",
    "* so now y=10, x = 2 10/2 = 5 and printing it to the console window"
   ]
  },
  {
   "cell_type": "code",
   "execution_count": 86,
   "metadata": {},
   "outputs": [
    {
     "name": "stdout",
     "output_type": "stream",
     "text": [
      "5.0\n"
     ]
    }
   ],
   "source": [
    "# example 2\n",
    "\n",
    "def divisor(x):\n",
    "    def dividened(y):\n",
    "        return y/x\n",
    "        \n",
    "    return dividened \n",
    "\n",
    "divide = divisor(2) # set x = 2\n",
    "print(divide(10))"
   ]
  },
  {
   "cell_type": "markdown",
   "metadata": {},
   "source": [
    "#### 54. Lambda Functions \n",
    "\n",
    "* function written in 1 line using the lambda keyword\n",
    "* accepts any number of arguements but only has 1 expression\n",
    "* think of it as a shortcut\n",
    "* useful if needed for a short period of time, throw-away"
   ]
  },
  {
   "cell_type": "code",
   "execution_count": 87,
   "metadata": {},
   "outputs": [
    {
     "name": "stdout",
     "output_type": "stream",
     "text": [
      "10\n"
     ]
    }
   ],
   "source": [
    "# lambda paramters:expression\n",
    "\n",
    "def double(x):\n",
    "    return x*2\n",
    "\n",
    "print(double(5))\n"
   ]
  },
  {
   "cell_type": "code",
   "execution_count": 88,
   "metadata": {},
   "outputs": [
    {
     "name": "stdout",
     "output_type": "stream",
     "text": [
      "10\n"
     ]
    }
   ],
   "source": [
    "#using lambda\n",
    "double = lambda x: x*2\n",
    "print(double(5))"
   ]
  },
  {
   "cell_type": "code",
   "execution_count": 94,
   "metadata": {},
   "outputs": [
    {
     "name": "stdout",
     "output_type": "stream",
     "text": [
      "30\n",
      "6\n",
      "Adam Smith\n",
      "True\n"
     ]
    }
   ],
   "source": [
    "#pass in 2 paramters i.e. x and y and times them together\n",
    "multiply = lambda x, y: x*y\n",
    "print(multiply(5,6))\n",
    "\n",
    "# add 3 numbers together\n",
    "add = lambda x,y,z : x+y+z\n",
    "print(add(1,2,3))\n",
    "\n",
    "# pass strings\n",
    "full_name = lambda first_name, last_name: first_name+ \" \" + last_name\n",
    "print(full_name('Adam', 'Smith'))\n",
    "\n",
    "# age_check \n",
    "age_check = lambda age:True if age >=18 else False\n",
    "print(age_check(22))"
   ]
  },
  {
   "cell_type": "markdown",
   "metadata": {},
   "source": [
    "#### Sort iterables in python \n",
    "\n",
    "sort() method = used with lits\n",
    "sort() function = used with iterables"
   ]
  },
  {
   "cell_type": "markdown",
   "metadata": {},
   "source": [
    "##### sorted lists"
   ]
  },
  {
   "cell_type": "code",
   "execution_count": 96,
   "metadata": {},
   "outputs": [
    {
     "name": "stdout",
     "output_type": "stream",
     "text": [
      "mr. crabs\n",
      "patrick\n",
      "sandy\n",
      "spongebob\n",
      "squidward\n"
     ]
    }
   ],
   "source": [
    "# list\n",
    "students = ['squidward', 'sandy', 'patrick', 'spongebob', 'mr. crabs']\n",
    "\n",
    "#built in method that comes with lists that sorts from A-Z\n",
    "students.sort()\n",
    "\n",
    "for i in students:\n",
    "    print(i)"
   ]
  },
  {
   "cell_type": "code",
   "execution_count": 97,
   "metadata": {},
   "outputs": [
    {
     "name": "stdout",
     "output_type": "stream",
     "text": [
      "squidward\n",
      "spongebob\n",
      "sandy\n",
      "patrick\n",
      "mr. crabs\n"
     ]
    }
   ],
   "source": [
    "students.sort(reverse=True) # reverse sort\n",
    "for i in students:\n",
    "    print(i)"
   ]
  },
  {
   "cell_type": "markdown",
   "metadata": {},
   "source": [
    "##### sorted tuple"
   ]
  },
  {
   "cell_type": "code",
   "execution_count": 98,
   "metadata": {},
   "outputs": [
    {
     "name": "stdout",
     "output_type": "stream",
     "text": [
      "mr. crabs\n",
      "patrick\n",
      "sandy\n",
      "spongebob\n",
      "squidward\n"
     ]
    }
   ],
   "source": [
    "# tuple\n",
    "students = ('squidward', 'sandy', 'patrick', 'spongebob', 'mr. crabs')\n",
    "# sorted function\n",
    "sorted_students = sorted(students)\n",
    "\n",
    "for i in sorted_students:\n",
    "    print(i)"
   ]
  },
  {
   "cell_type": "code",
   "execution_count": 99,
   "metadata": {},
   "outputs": [
    {
     "name": "stdout",
     "output_type": "stream",
     "text": [
      "squidward\n",
      "spongebob\n",
      "sandy\n",
      "patrick\n",
      "mr. crabs\n"
     ]
    }
   ],
   "source": [
    "sorted_students = sorted(students, reverse=True)\n",
    "for i in sorted_students:\n",
    "    print(i)"
   ]
  },
  {
   "cell_type": "markdown",
   "metadata": {},
   "source": [
    "##### List of tuples"
   ]
  },
  {
   "cell_type": "code",
   "execution_count": 100,
   "metadata": {},
   "outputs": [
    {
     "name": "stdout",
     "output_type": "stream",
     "text": [
      "('mr. crabs', 'D', 71)\n",
      "('patrick', 'B', 19)\n",
      "('sandy', 'A', 20)\n",
      "('spongebob', 'C', 33)\n",
      "('squidward', 'F', 60)\n"
     ]
    }
   ],
   "source": [
    "# NAME / STUDENT GRADE / AGE\n",
    "students = [\n",
    "    ('squidward', 'F', 60),\n",
    "    ('sandy', 'A', 20),\n",
    "    ('patrick', 'B', 19),\n",
    "    ('spongebob', 'C', 33),\n",
    "    ('mr. crabs', 'D', 71)\n",
    "]\n",
    "\n",
    "# sort by first column \n",
    "students.sort()\n",
    "\n",
    "for i in students:\n",
    "    print(i)"
   ]
  },
  {
   "cell_type": "code",
   "execution_count": 101,
   "metadata": {},
   "outputs": [
    {
     "name": "stdout",
     "output_type": "stream",
     "text": [
      "('sandy', 'A', 20)\n",
      "('patrick', 'B', 19)\n",
      "('spongebob', 'C', 33)\n",
      "('mr. crabs', 'D', 71)\n",
      "('squidward', 'F', 60)\n"
     ]
    }
   ],
   "source": [
    "# sort by second column grade\n",
    "\n",
    "grade = lambda grades: grades[1] # specifiy index of the tuple\n",
    "students.sort(key = grade)\n",
    "\n",
    "for i in students:\n",
    "    print(i)"
   ]
  },
  {
   "cell_type": "code",
   "execution_count": 102,
   "metadata": {},
   "outputs": [
    {
     "name": "stdout",
     "output_type": "stream",
     "text": [
      "('patrick', 'B', 19)\n",
      "('sandy', 'A', 20)\n",
      "('spongebob', 'C', 33)\n",
      "('squidward', 'F', 60)\n",
      "('mr. crabs', 'D', 71)\n"
     ]
    }
   ],
   "source": [
    "# sort by third column age\n",
    "\n",
    "age = lambda age: age[2] # specifiy index of the tuple\n",
    "students.sort(key = age)\n",
    "\n",
    "for i in students:\n",
    "    print(i)"
   ]
  },
  {
   "cell_type": "code",
   "execution_count": 103,
   "metadata": {},
   "outputs": [
    {
     "name": "stdout",
     "output_type": "stream",
     "text": [
      "('mr. crabs', 'D', 71)\n",
      "('squidward', 'F', 60)\n",
      "('spongebob', 'C', 33)\n",
      "('sandy', 'A', 20)\n",
      "('patrick', 'B', 19)\n"
     ]
    }
   ],
   "source": [
    "# sort by third column age reversed\n",
    "\n",
    "age = lambda age: age[2] # specifiy index of the tuple\n",
    "students.sort(key = age, reverse= True)\n",
    "\n",
    "for i in students:\n",
    "    print(i)"
   ]
  },
  {
   "cell_type": "markdown",
   "metadata": {},
   "source": [
    "##### tuple of tuple"
   ]
  },
  {
   "cell_type": "code",
   "execution_count": 105,
   "metadata": {},
   "outputs": [
    {
     "name": "stdout",
     "output_type": "stream",
     "text": [
      "('patrick', 'B', 19)\n",
      "('sandy', 'A', 20)\n",
      "('spongebob', 'C', 33)\n",
      "('squidward', 'F', 60)\n",
      "('mr. crabs', 'D', 71)\n"
     ]
    }
   ],
   "source": [
    "students = (\n",
    "    ('squidward', 'F', 60),\n",
    "    ('sandy', 'A', 20),\n",
    "    ('patrick', 'B', 19),\n",
    "    ('spongebob', 'C', 33),\n",
    "    ('mr. crabs', 'D', 71))\n",
    "\n",
    "sorted_students = sorted(students, key = age)\n",
    "\n",
    "for i in sorted_students:\n",
    "    print(i)"
   ]
  },
  {
   "cell_type": "markdown",
   "metadata": {},
   "source": [
    "#### "
   ]
  },
  {
   "cell_type": "markdown",
   "metadata": {},
   "source": [
    "#### 56. Map function\n",
    "\n",
    "applies a function to each item in an iterable (list, tuples, etc)\n",
    "\n",
    "We have a store of items but they are in usd and we need to convert to pounds gbp"
   ]
  },
  {
   "cell_type": "code",
   "execution_count": 114,
   "metadata": {},
   "outputs": [
    {
     "name": "stdout",
     "output_type": "stream",
     "text": [
      "('pants', 15.600000000000001)\n",
      "('jackets', 39.0)\n",
      "('tops', 19.5)\n",
      "('shirts', 10.92)\n"
     ]
    }
   ],
   "source": [
    "# list of tuples of store items that are currently in usd\n",
    "store = [\n",
    "    ('pants', 20.00),\n",
    "    ('jackets', 50.00),\n",
    "    ('tops', 25.00),\n",
    "    ('shirts', 14.00)\n",
    "    ]\n",
    "\n",
    "# assume current exchange rate is 0.78 and we are keepingthe 1st column the same\n",
    "to_pounds = lambda data:(data[0], data[1]*0.78)\n",
    "\n",
    "# now we need to map the lambda function to the store list and create a new list out of it\n",
    "store_pounds = list(map(to_pounds, store))\n",
    "\n",
    "# print statement\n",
    "for i in store_pounds:\n",
    "    print(i)\n"
   ]
  },
  {
   "cell_type": "code",
   "execution_count": 115,
   "metadata": {},
   "outputs": [
    {
     "name": "stdout",
     "output_type": "stream",
     "text": [
      "('pants', 20.0)\n",
      "('jackets', 50.0)\n",
      "('tops', 25.0)\n",
      "('shirts', 14.0)\n"
     ]
    }
   ],
   "source": [
    "# to now revert to change prices back to usd:\n",
    "\n",
    "# we divide by 0.78 whihc is the exchange rate\n",
    "to_usd = lambda data:(data[0], data[1]/0.78)\n",
    "\n",
    "#again use the map fuction but specify store_pounds as thats the iterable i.e. list of tuples that we made prior\n",
    "store_usd = list(map(to_usd, store_pounds))\n",
    "\n",
    "# again run the loop\n",
    "for i in store_usd:\n",
    "    print(i)"
   ]
  },
  {
   "cell_type": "markdown",
   "metadata": {},
   "source": [
    "#### Filter Function\n",
    "\n",
    "* creates a collection of elements form an iterable for which a function returns True"
   ]
  },
  {
   "cell_type": "code",
   "execution_count": null,
   "metadata": {},
   "outputs": [],
   "source": [
    "friends = [\n",
    "    ('Jordan', 19),\n",
    "    ('Mary', 26),\n",
    "    ('Amber', 25),\n",
    "    ('Maddison', 17),\n",
    "    ('Derek', 31),\n",
    "    ('Oscar', 16),\n",
    "    ('Leo', 22)\n",
    "]\n",
    "\n",
    "# want to create a sperate list for friends who are 18 or over\n"
   ]
  },
  {
   "cell_type": "code",
   "execution_count": null,
   "metadata": {},
   "outputs": [],
   "source": []
  },
  {
   "cell_type": "code",
   "execution_count": null,
   "metadata": {},
   "outputs": [],
   "source": []
  },
  {
   "cell_type": "code",
   "execution_count": null,
   "metadata": {},
   "outputs": [],
   "source": []
  },
  {
   "cell_type": "markdown",
   "metadata": {},
   "source": []
  }
 ],
 "metadata": {
  "kernelspec": {
   "display_name": "Python 3",
   "language": "python",
   "name": "python3"
  },
  "language_info": {
   "codemirror_mode": {
    "name": "ipython",
    "version": 3
   },
   "file_extension": ".py",
   "mimetype": "text/x-python",
   "name": "python",
   "nbconvert_exporter": "python",
   "pygments_lexer": "ipython3",
   "version": "3.12.2"
  }
 },
 "nbformat": 4,
 "nbformat_minor": 2
}
